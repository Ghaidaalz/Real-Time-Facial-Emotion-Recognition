{
 "cells": [
  {
   "cell_type": "code",
   "execution_count": 2,
   "metadata": {
    "colab": {
     "base_uri": "https://localhost:8080/",
     "height": 0
    },
    "id": "J0WZmFRYd6Kr",
    "outputId": "4d17105d-6df4-4bb9-9ff5-cb1aeb222470"
   },
   "outputs": [
    {
     "name": "stdout",
     "output_type": "stream",
     "text": [
      "Drive already mounted at /content/drive; to attempt to forcibly remount, call drive.mount(\"/content/drive\", force_remount=True).\n"
     ]
    }
   ],
   "source": [
    "from google.colab import drive\n",
    "drive.mount('/content/drive')"
   ]
  },
  {
   "cell_type": "code",
   "execution_count": 55,
   "metadata": {
    "id": "KKGtHdxRebUB"
   },
   "outputs": [],
   "source": [
    "# Step 2:\n",
    "import os\n",
    "import numpy as np\n",
    "import cv2\n",
    "from sklearn.model_selection import train_test_split\n",
    "import matplotlib.pyplot as plt\n",
    "from tensorflow.keras.layers import BatchNormalization, Dropout, Conv2D, MaxPooling2D, Flatten, Dense\n",
    "from tensorflow.keras.regularizers import l2\n",
    "from tensorflow.keras.applications import VGG16\n",
    "from tensorflow.keras.callbacks import EarlyStopping, ReduceLROnPlateau\n",
    "from tensorflow.keras.models import Sequential\n",
    "from tensorflow.keras.layers import Dense, Flatten, Dropout, BatchNormalization\n",
    "from tensorflow.keras.optimizers import Adam\n",
    "from tensorflow.keras.regularizers import l2\n",
    "from tensorflow.keras.preprocessing.image import ImageDataGenerator\n"
   ]
  },
  {
   "cell_type": "code",
   "execution_count": 4,
   "metadata": {
    "id": "LhYzSNqcefOM"
   },
   "outputs": [],
   "source": [
    "emotion_dataset_path = '/content/drive/MyDrive/Data-Science-Projects/Facial-Emotion-andBody-Language/Datasets/FINAL-NewbalancedFE'"
   ]
  },
  {
   "cell_type": "code",
   "execution_count": 5,
   "metadata": {
    "id": "-CUAdckeehMj"
   },
   "outputs": [],
   "source": [
    "# Step 3: Define the function to load the dataset\n",
    "def load_images_from_folder(folder):\n",
    "    images = []\n",
    "    labels = []\n",
    "    for class_name in os.listdir(folder):\n",
    "        class_folder = os.path.join(folder, class_name)\n",
    "        if os.path.isdir(class_folder):\n",
    "            for filename in os.listdir(class_folder):\n",
    "                img_path = os.path.join(class_folder, filename)\n",
    "                img = cv2.imread(img_path)\n",
    "                if img is not None:\n",
    "                    img = cv2.resize(img, (224, 224))\n",
    "                    images.append(img)\n",
    "                    labels.append(class_name)\n",
    "    return np.array(images), np.array(labels)"
   ]
  },
  {
   "cell_type": "code",
   "execution_count": 6,
   "metadata": {
    "id": "jN0R1ek6ei_C"
   },
   "outputs": [],
   "source": [
    "# Step 4: Load the facial emotion dataset\n",
    "X_emotion, y_emotion = load_images_from_folder(emotion_dataset_path)"
   ]
  },
  {
   "cell_type": "code",
   "execution_count": 7,
   "metadata": {
    "colab": {
     "base_uri": "https://localhost:8080/",
     "height": 0
    },
    "id": "DAatx0rzekqp",
    "outputId": "e47e5d53-f3d5-4861-e3ad-2866e9d1584f"
   },
   "outputs": [
    {
     "name": "stdout",
     "output_type": "stream",
     "text": [
      "Emotion Labels Mapping: {'Angary': 0, 'Disgust': 1, 'Fear': 2, 'Happy': 3, 'Neutral': 4, 'Sad': 5, 'Surprised': 6}\n"
     ]
    }
   ],
   "source": [
    "# Step 5: Dynamically fetch folder names and assign labels\n",
    "emotion_labels = {folder_name: idx for idx, folder_name in enumerate(sorted(os.listdir(emotion_dataset_path)))}\n",
    "\n",
    "y_emotion = np.array([emotion_labels[label] for label in y_emotion])\n",
    "\n",
    "print(\"Emotion Labels Mapping:\", emotion_labels)\n"
   ]
  },
  {
   "cell_type": "code",
   "execution_count": 8,
   "metadata": {
    "id": "A9syCkOzem3b"
   },
   "outputs": [],
   "source": [
    "# Step 6: Normalize the images\n",
    "X_emotion = X_emotion / 255.0"
   ]
  },
  {
   "cell_type": "code",
   "execution_count": null,
   "metadata": {
    "id": "phCor0cpeoKP"
   },
   "outputs": [],
   "source": [
    "# Step 7: Split the dataset into training, validation, and test sets\n",
    "X_train_emotion, X_temp_emotion, y_train_emotion, y_temp_emotion = train_test_split(X_emotion, y_emotion, test_size=0.3, random_state=42)\n",
    "X_val_emotion, X_test_emotion, y_val_emotion, y_test_emotion = train_test_split(X_temp_emotion, y_temp_emotion, test_size=0.5, random_state=42)"
   ]
  },
  {
   "cell_type": "code",
   "execution_count": null,
   "metadata": {
    "id": "iseY8rBCep0G"
   },
   "outputs": [],
   "source": [
    "print(\"Facial Emotion Training set shape:\", X_train_emotion.shape)\n",
    "print(\"Facial Emotion Validation set shape:\", X_val_emotion.shape)\n",
    "print(\"Facial Emotion Test set shape:\", X_test_emotion.shape)"
   ]
  },
  {
   "cell_type": "code",
   "execution_count": null,
   "metadata": {
    "id": "DQj7xRw6eqsv"
   },
   "outputs": [],
   "source": []
  },
  {
   "cell_type": "markdown",
   "metadata": {
    "id": "dG4eZSJBnriA"
   },
   "source": [
    "FINAL"
   ]
  },
  {
   "cell_type": "code",
   "execution_count": 1,
   "metadata": {
    "colab": {
     "base_uri": "https://localhost:8080/",
     "height": 0
    },
    "id": "q6pdDRwnnsKK",
    "outputId": "c379cc0a-9877-43c3-813c-b5f683180ad2"
   },
   "outputs": [
    {
     "name": "stdout",
     "output_type": "stream",
     "text": [
      "Drive already mounted at /content/drive; to attempt to forcibly remount, call drive.mount(\"/content/drive\", force_remount=True).\n"
     ]
    }
   ],
   "source": [
    "from google.colab import drive\n",
    "drive.mount('/content/drive')"
   ]
  },
  {
   "cell_type": "code",
   "execution_count": 9,
   "metadata": {
    "id": "p5XyvZxanu4M"
   },
   "outputs": [],
   "source": [
    "import os\n",
    "import numpy as np\n",
    "import tensorflow as tf\n",
    "import matplotlib.pyplot as plt\n",
    "from tensorflow.keras.preprocessing.image import ImageDataGenerator\n",
    "from sklearn.metrics import classification_report, confusion_matrix\n",
    "\n",
    "from tensorflow.keras.models import Sequential\n",
    "from tensorflow.keras.layers import Conv2D, MaxPooling2D, Flatten, Dense, Dropout"
   ]
  },
  {
   "cell_type": "code",
   "execution_count": 4,
   "metadata": {
    "id": "pIVoRnovnyAo"
   },
   "outputs": [],
   "source": [
    "emotion_dataset_path = '/content/drive/MyDrive/Data-Science-Projects/Facial-Emotion-andBody-Language/Datasets/FINAL-NewbalancedFE'"
   ]
  },
  {
   "cell_type": "code",
   "execution_count": 5,
   "metadata": {
    "colab": {
     "base_uri": "https://localhost:8080/",
     "height": 0
    },
    "id": "o65pqKbmozsV",
    "outputId": "482a19ab-940d-48a5-a058-bb06b71a2c4a"
   },
   "outputs": [
    {
     "name": "stdout",
     "output_type": "stream",
     "text": [
      "Emotion Labels Mapping: {'Angary': 0, 'Disgust': 1, 'Fear': 2, 'Happy': 3, 'Neutral': 4, 'Sad': 5, 'Surprised': 6}\n"
     ]
    }
   ],
   "source": [
    "emotion_labels = {folder_name: idx for idx, folder_name in enumerate(sorted(os.listdir(emotion_dataset_path)))}\n",
    "print(\"Emotion Labels Mapping:\", emotion_labels)"
   ]
  },
  {
   "cell_type": "code",
   "execution_count": 6,
   "metadata": {
    "id": "glz0c8dso3ZE"
   },
   "outputs": [],
   "source": [
    "datagen = ImageDataGenerator(\n",
    "    rescale=1./255,\n",
    "    validation_split=0.3\n",
    ")"
   ]
  },
  {
   "cell_type": "code",
   "execution_count": 7,
   "metadata": {
    "colab": {
     "base_uri": "https://localhost:8080/",
     "height": 0
    },
    "id": "cRLfwlquo69l",
    "outputId": "07901480-75e3-4cdd-fcb2-244eb06eb5a4"
   },
   "outputs": [
    {
     "name": "stdout",
     "output_type": "stream",
     "text": [
      "Found 17030 images belonging to 7 classes.\n"
     ]
    }
   ],
   "source": [
    "train_generator = datagen.flow_from_directory(\n",
    "    emotion_dataset_path,\n",
    "    target_size=(224, 224),\n",
    "    batch_size=32,\n",
    "    class_mode='sparse',\n",
    "    subset='training'\n",
    ")"
   ]
  },
  {
   "cell_type": "code",
   "execution_count": 8,
   "metadata": {
    "colab": {
     "base_uri": "https://localhost:8080/",
     "height": 0
    },
    "id": "3soWfDifo-Na",
    "outputId": "d009c535-5818-4e96-ef81-916d214a8969"
   },
   "outputs": [
    {
     "name": "stdout",
     "output_type": "stream",
     "text": [
      "Found 7295 images belonging to 7 classes.\n"
     ]
    }
   ],
   "source": [
    "validation_generator = datagen.flow_from_directory(\n",
    "    emotion_dataset_path,\n",
    "    target_size=(224, 224),\n",
    "    batch_size=32,\n",
    "    class_mode='sparse',\n",
    "    subset='validation'\n",
    ")"
   ]
  },
  {
   "cell_type": "code",
   "execution_count": 10,
   "metadata": {
    "id": "3MDwFRiupEx4"
   },
   "outputs": [],
   "source": [
    "def build_baseline_cnn(input_shape):\n",
    "    model = Sequential()\n",
    "\n",
    "    model.add(Conv2D(32, (3, 3), activation='relu', input_shape=input_shape))\n",
    "    model.add(MaxPooling2D(pool_size=(2, 2)))\n",
    "\n",
    "    model.add(Conv2D(64, (3, 3), activation='relu'))\n",
    "    model.add(MaxPooling2D(pool_size=(2, 2)))\n",
    "\n",
    "    model.add(Flatten())\n",
    "\n",
    "    # Fully connected layers\n",
    "    model.add(Dense(128, activation='relu'))\n",
    "    model.add(Dropout(0.5))\n",
    "\n",
    "    model.add(Dense(len(emotion_labels), activation='softmax'))\n",
    "\n",
    "    model.compile(optimizer='adam', loss='sparse_categorical_crossentropy', metrics=['accuracy'])\n",
    "\n",
    "    return model"
   ]
  },
  {
   "cell_type": "code",
   "execution_count": 11,
   "metadata": {
    "colab": {
     "base_uri": "https://localhost:8080/",
     "height": 0
    },
    "id": "LiCoKxZvpM6_",
    "outputId": "e171d5a1-2841-4dd8-e00c-331f069cb308"
   },
   "outputs": [
    {
     "name": "stderr",
     "output_type": "stream",
     "text": [
      "/usr/local/lib/python3.10/dist-packages/keras/src/layers/convolutional/base_conv.py:107: UserWarning: Do not pass an `input_shape`/`input_dim` argument to a layer. When using Sequential models, prefer using an `Input(shape)` object as the first layer in the model instead.\n",
      "  super().__init__(activity_regularizer=activity_regularizer, **kwargs)\n"
     ]
    }
   ],
   "source": [
    "baseline_emotion_cnn_model = build_baseline_cnn(input_shape=(224, 224, 3))"
   ]
  },
  {
   "cell_type": "code",
   "execution_count": 13,
   "metadata": {
    "colab": {
     "base_uri": "https://localhost:8080/",
     "height": 0
    },
    "id": "R7Da4unxpPOA",
    "outputId": "bad489fc-a7bc-47ee-dca3-bf865681f05b"
   },
   "outputs": [
    {
     "name": "stdout",
     "output_type": "stream",
     "text": [
      "Epoch 1/20\n",
      "\u001b[1m532/532\u001b[0m \u001b[32m━━━━━━━━━━━━━━━━━━━━\u001b[0m\u001b[37m\u001b[0m \u001b[1m73s\u001b[0m 136ms/step - accuracy: 0.7477 - loss: 0.6878 - val_accuracy: 0.4159 - val_loss: 1.9901\n",
      "Epoch 2/20\n",
      "\u001b[1m532/532\u001b[0m \u001b[32m━━━━━━━━━━━━━━━━━━━━\u001b[0m\u001b[37m\u001b[0m \u001b[1m0s\u001b[0m 91us/step - accuracy: 0.8125 - loss: 0.5656 - val_accuracy: 0.3548 - val_loss: 2.2541\n",
      "Epoch 3/20\n",
      "\u001b[1m532/532\u001b[0m \u001b[32m━━━━━━━━━━━━━━━━━━━━\u001b[0m\u001b[37m\u001b[0m \u001b[1m72s\u001b[0m 133ms/step - accuracy: 0.7844 - loss: 0.5839 - val_accuracy: 0.4174 - val_loss: 2.0575\n",
      "Epoch 4/20\n",
      "\u001b[1m532/532\u001b[0m \u001b[32m━━━━━━━━━━━━━━━━━━━━\u001b[0m\u001b[37m\u001b[0m \u001b[1m0s\u001b[0m 88us/step - accuracy: 0.7812 - loss: 0.6593 - val_accuracy: 0.3548 - val_loss: 1.9346\n",
      "Epoch 5/20\n",
      "\u001b[1m532/532\u001b[0m \u001b[32m━━━━━━━━━━━━━━━━━━━━\u001b[0m\u001b[37m\u001b[0m \u001b[1m70s\u001b[0m 131ms/step - accuracy: 0.8169 - loss: 0.4886 - val_accuracy: 0.4202 - val_loss: 2.0760\n",
      "Epoch 6/20\n",
      "\u001b[1m532/532\u001b[0m \u001b[32m━━━━━━━━━━━━━━━━━━━━\u001b[0m\u001b[37m\u001b[0m \u001b[1m0s\u001b[0m 82us/step - accuracy: 0.8438 - loss: 0.4601 - val_accuracy: 0.4839 - val_loss: 1.9470\n",
      "Epoch 7/20\n",
      "\u001b[1m532/532\u001b[0m \u001b[32m━━━━━━━━━━━━━━━━━━━━\u001b[0m\u001b[37m\u001b[0m \u001b[1m71s\u001b[0m 131ms/step - accuracy: 0.8371 - loss: 0.4337 - val_accuracy: 0.4200 - val_loss: 2.2219\n",
      "Epoch 8/20\n",
      "\u001b[1m532/532\u001b[0m \u001b[32m━━━━━━━━━━━━━━━━━━━━\u001b[0m\u001b[37m\u001b[0m \u001b[1m0s\u001b[0m 75us/step - accuracy: 0.8125 - loss: 0.3692 - val_accuracy: 0.5161 - val_loss: 1.5877\n",
      "Epoch 9/20\n",
      "\u001b[1m532/532\u001b[0m \u001b[32m━━━━━━━━━━━━━━━━━━━━\u001b[0m\u001b[37m\u001b[0m \u001b[1m71s\u001b[0m 131ms/step - accuracy: 0.8514 - loss: 0.3946 - val_accuracy: 0.4283 - val_loss: 2.3071\n",
      "Epoch 10/20\n",
      "\u001b[1m532/532\u001b[0m \u001b[32m━━━━━━━━━━━━━━━━━━━━\u001b[0m\u001b[37m\u001b[0m \u001b[1m0s\u001b[0m 66us/step - accuracy: 0.8125 - loss: 0.4737 - val_accuracy: 0.2581 - val_loss: 2.8084\n",
      "Epoch 11/20\n",
      "\u001b[1m532/532\u001b[0m \u001b[32m━━━━━━━━━━━━━━━━━━━━\u001b[0m\u001b[37m\u001b[0m \u001b[1m71s\u001b[0m 132ms/step - accuracy: 0.8626 - loss: 0.3634 - val_accuracy: 0.4228 - val_loss: 2.5763\n",
      "Epoch 12/20\n",
      "\u001b[1m532/532\u001b[0m \u001b[32m━━━━━━━━━━━━━━━━━━━━\u001b[0m\u001b[37m\u001b[0m \u001b[1m0s\u001b[0m 68us/step - accuracy: 0.9062 - loss: 0.3300 - val_accuracy: 0.5806 - val_loss: 1.3671\n",
      "Epoch 13/20\n",
      "\u001b[1m532/532\u001b[0m \u001b[32m━━━━━━━━━━━━━━━━━━━━\u001b[0m\u001b[37m\u001b[0m \u001b[1m71s\u001b[0m 132ms/step - accuracy: 0.8601 - loss: 0.3566 - val_accuracy: 0.4195 - val_loss: 2.8304\n",
      "Epoch 14/20\n",
      "\u001b[1m532/532\u001b[0m \u001b[32m━━━━━━━━━━━━━━━━━━━━\u001b[0m\u001b[37m\u001b[0m \u001b[1m0s\u001b[0m 94us/step - accuracy: 0.8438 - loss: 0.4490 - val_accuracy: 0.4839 - val_loss: 2.5106\n",
      "Epoch 15/20\n",
      "\u001b[1m532/532\u001b[0m \u001b[32m━━━━━━━━━━━━━━━━━━━━\u001b[0m\u001b[37m\u001b[0m \u001b[1m70s\u001b[0m 131ms/step - accuracy: 0.8729 - loss: 0.3250 - val_accuracy: 0.4178 - val_loss: 2.6367\n",
      "Epoch 16/20\n",
      "\u001b[1m532/532\u001b[0m \u001b[32m━━━━━━━━━━━━━━━━━━━━\u001b[0m\u001b[37m\u001b[0m \u001b[1m0s\u001b[0m 94us/step - accuracy: 0.8750 - loss: 0.2853 - val_accuracy: 0.4194 - val_loss: 2.6950\n",
      "Epoch 17/20\n",
      "\u001b[1m532/532\u001b[0m \u001b[32m━━━━━━━━━━━━━━━━━━━━\u001b[0m\u001b[37m\u001b[0m \u001b[1m70s\u001b[0m 131ms/step - accuracy: 0.8726 - loss: 0.3159 - val_accuracy: 0.4197 - val_loss: 2.9386\n",
      "Epoch 18/20\n",
      "\u001b[1m532/532\u001b[0m \u001b[32m━━━━━━━━━━━━━━━━━━━━\u001b[0m\u001b[37m\u001b[0m \u001b[1m0s\u001b[0m 62us/step - accuracy: 0.8750 - loss: 0.2948 - val_accuracy: 0.3226 - val_loss: 3.0892\n",
      "Epoch 19/20\n",
      "\u001b[1m532/532\u001b[0m \u001b[32m━━━━━━━━━━━━━━━━━━━━\u001b[0m\u001b[37m\u001b[0m \u001b[1m71s\u001b[0m 132ms/step - accuracy: 0.8819 - loss: 0.2893 - val_accuracy: 0.4102 - val_loss: 2.7653\n",
      "Epoch 20/20\n",
      "\u001b[1m532/532\u001b[0m \u001b[32m━━━━━━━━━━━━━━━━━━━━\u001b[0m\u001b[37m\u001b[0m \u001b[1m0s\u001b[0m 114us/step - accuracy: 0.9062 - loss: 0.3764 - val_accuracy: 0.3226 - val_loss: 2.9059\n"
     ]
    }
   ],
   "source": [
    "history_emotion_cnn = baseline_emotion_cnn_model.fit(\n",
    "    train_generator,\n",
    "    validation_data=validation_generator,\n",
    "    epochs=20,\n",
    "    steps_per_epoch=train_generator.samples // train_generator.batch_size,\n",
    "    validation_steps=validation_generator.samples // validation_generator.batch_size\n",
    ")"
   ]
  },
  {
   "cell_type": "code",
   "execution_count": 14,
   "metadata": {
    "colab": {
     "base_uri": "https://localhost:8080/",
     "height": 472
    },
    "id": "sXUHj7elpS0h",
    "outputId": "79d4fc8b-7679-48d0-b9e4-9f9a2471da71"
   },
   "outputs": [
    {
     "data": {
      "image/png": "[encoded data removed]",
      "text/plain": [
       "<Figure size 640x480 with 1 Axes>"
      ]
     },
     "metadata": {},
     "output_type": "display_data"
    }
   ],
   "source": [
    "\n",
    "plt.plot(history_emotion_cnn.history['accuracy'], label='Train Accuracy')\n",
    "plt.plot(history_emotion_cnn.history['val_accuracy'], label='Validation Accuracy')\n",
    "plt.xlabel('Epochs')\n",
    "plt.ylabel('Accuracy')\n",
    "plt.legend()\n",
    "plt.title('Baseline CNN Accuracy for Facial Emotion Detection')\n",
    "plt.show()"
   ]
  },
  {
   "cell_type": "code",
   "execution_count": 15,
   "metadata": {
    "colab": {
     "base_uri": "https://localhost:8080/",
     "height": 472
    },
    "id": "8A2nrcd5wKhS",
    "outputId": "3e87c2c7-8859-4a63-d32b-4347ae4ade75"
   },
   "outputs": [
    {
     "data": {
      "image/png": "[encoded data removed]",
      "text/plain": [
       "<Figure size 640x480 with 1 Axes>"
      ]
     },
     "metadata": {},
     "output_type": "display_data"
    }
   ],
   "source": [
    "\n",
    "plt.plot(history_emotion_cnn.history['loss'], label='Train Loss')\n",
    "plt.plot(history_emotion_cnn.history['val_loss'], label='Validation Loss')\n",
    "plt.xlabel('Epochs')\n",
    "plt.ylabel('Loss')\n",
    "plt.legend()\n",
    "plt.title('Baseline CNN Loss for Facial Emotion Detection')\n",
    "plt.show()"
   ]
  },
  {
   "cell_type": "code",
   "execution_count": 16,
   "metadata": {
    "colab": {
     "base_uri": "https://localhost:8080/",
     "height": 0
    },
    "id": "rPozlUNOwM1k",
    "outputId": "1bfa592d-aed3-4e94-9fc3-caa446eefcea"
   },
   "outputs": [
    {
     "name": "stdout",
     "output_type": "stream",
     "text": [
      "\u001b[1m228/228\u001b[0m \u001b[32m━━━━━━━━━━━━━━━━━━━━\u001b[0m\u001b[37m\u001b[0m \u001b[1m21s\u001b[0m 93ms/step - accuracy: 0.3977 - loss: 2.7721\n",
      "Test Accuracy: 41.00%\n"
     ]
    }
   ],
   "source": [
    "\n",
    "test_loss, test_accuracy = baseline_emotion_cnn_model.evaluate(validation_generator)\n",
    "print(f\"Test Accuracy: {test_accuracy * 100:.2f}%\")"
   ]
  },
  {
   "cell_type": "code",
   "execution_count": 17,
   "metadata": {
    "colab": {
     "base_uri": "https://localhost:8080/",
     "height": 0
    },
    "id": "C5f42OErwQKK",
    "outputId": "d417eaf9-6d74-4f6e-b9fe-5f8e2119dc83"
   },
   "outputs": [
    {
     "name": "stdout",
     "output_type": "stream",
     "text": [
      "\u001b[1m228/228\u001b[0m \u001b[32m━━━━━━━━━━━━━━━━━━━━\u001b[0m\u001b[37m\u001b[0m \u001b[1m22s\u001b[0m 96ms/step\n"
     ]
    }
   ],
   "source": [
    "y_pred_emotion = baseline_emotion_cnn_model.predict(validation_generator)\n",
    "y_pred_emotion = np.argmax(y_pred_emotion, axis=1)"
   ]
  },
  {
   "cell_type": "code",
   "execution_count": 18,
   "metadata": {
    "colab": {
     "base_uri": "https://localhost:8080/",
     "height": 0
    },
    "id": "JEegucB0wTn2",
    "outputId": "d83a6f4b-3a8a-47bc-d742-8fb1e56d608f"
   },
   "outputs": [
    {
     "name": "stdout",
     "output_type": "stream",
     "text": [
      "Classification Report:\n",
      "               precision    recall  f1-score   support\n",
      "\n",
      "      Angary       0.13      0.10      0.11       900\n",
      "     Disgust       0.14      0.15      0.15      1133\n",
      "        Fear       0.15      0.13      0.14      1159\n",
      "       Happy       0.15      0.13      0.14      1014\n",
      "     Neutral       0.15      0.19      0.17      1150\n",
      "         Sad       0.15      0.17      0.16       978\n",
      "   Surprised       0.14      0.15      0.15       961\n",
      "\n",
      "    accuracy                           0.15      7295\n",
      "   macro avg       0.15      0.15      0.14      7295\n",
      "weighted avg       0.15      0.15      0.15      7295\n",
      "\n",
      "Confusion Matrix:\n",
      " [[ 91 155 125  94 185 122 128]\n",
      " [108 167 148 143 231 171 165]\n",
      " [125 212 156 139 207 173 147]\n",
      " [ 79 158 141 129 220 149 138]\n",
      " [106 190 175 147 215 176 141]\n",
      " [ 88 147 147  94 193 164 145]\n",
      " [ 95 130 128 122 191 150 145]]\n"
     ]
    }
   ],
   "source": [
    "\n",
    "y_true_emotion = validation_generator.classes\n",
    "\n",
    "print(\"Classification Report:\\n\", classification_report(y_true_emotion, y_pred_emotion, target_names=emotion_labels.keys()))\n",
    "\n",
    "print(\"Confusion Matrix:\\n\", confusion_matrix(y_true_emotion, y_pred_emotion))"
   ]
  },
  {
   "cell_type": "markdown",
   "metadata": {
    "id": "fAJ3jtgQ1q2q"
   },
   "source": [
    "Trying Improve"
   ]
  },
  {
   "cell_type": "code",
   "execution_count": 24,
   "metadata": {
    "id": "T2hl-pmCzEi_"
   },
   "outputs": [],
   "source": [
    "datagen = ImageDataGenerator(\n",
    "    rescale=1./255,\n",
    "    validation_split=0.3,\n",
    "    rotation_range=30,\n",
    "    width_shift_range=0.2,\n",
    "    height_shift_range=0.2,\n",
    "    shear_range=0.2,\n",
    "    zoom_range=0.2,\n",
    "    horizontal_flip=True,\n",
    "    fill_mode='nearest'\n",
    ")\n"
   ]
  },
  {
   "cell_type": "code",
   "execution_count": 25,
   "metadata": {
    "id": "9rHMVdngyibg"
   },
   "outputs": [],
   "source": [
    "def build_regularized_cnn(input_shape):\n",
    "    model = Sequential()\n",
    "\n",
    "    model.add(Conv2D(32, (3, 3), activation='relu', input_shape=input_shape, kernel_regularizer=l2(0.01)))\n",
    "    model.add(BatchNormalization())\n",
    "    model.add(MaxPooling2D(pool_size=(2, 2)))\n",
    "    model.add(Dropout(0.25))\n",
    "\n",
    "    model.add(Conv2D(64, (3, 3), activation='relu', kernel_regularizer=l2(0.01)))\n",
    "    model.add(BatchNormalization())\n",
    "    model.add(MaxPooling2D(pool_size=(2, 2)))\n",
    "    model.add(Dropout(0.25))\n",
    "\n",
    "    model.add(Conv2D(128, (3, 3), activation='relu', kernel_regularizer=l2(0.01)))\n",
    "    model.add(BatchNormalization())\n",
    "    model.add(MaxPooling2D(pool_size=(2, 2)))\n",
    "    model.add(Dropout(0.5))\n",
    "\n",
    "    model.add(Flatten())\n",
    "\n",
    "    model.add(Dense(128, activation='relu', kernel_regularizer=l2(0.01)))\n",
    "    model.add(Dropout(0.5))\n",
    "\n",
    "    model.add(Dense(len(emotion_labels), activation='softmax'))\n",
    "\n",
    "    model.compile(optimizer='adam', loss='sparse_categorical_crossentropy', metrics=['accuracy'])\n",
    "\n",
    "    return model"
   ]
  },
  {
   "cell_type": "code",
   "execution_count": 26,
   "metadata": {
    "colab": {
     "base_uri": "https://localhost:8080/",
     "height": 0
    },
    "id": "Jk8xzgoNy4Bi",
    "outputId": "1de83277-5fb5-4c70-9431-1b9230d4558d"
   },
   "outputs": [
    {
     "name": "stderr",
     "output_type": "stream",
     "text": [
      "/usr/local/lib/python3.10/dist-packages/keras/src/layers/convolutional/base_conv.py:107: UserWarning: Do not pass an `input_shape`/`input_dim` argument to a layer. When using Sequential models, prefer using an `Input(shape)` object as the first layer in the model instead.\n",
      "  super().__init__(activity_regularizer=activity_regularizer, **kwargs)\n"
     ]
    }
   ],
   "source": [
    "regularized_cnn_model = build_regularized_cnn(input_shape=(224, 224, 3))"
   ]
  },
  {
   "cell_type": "code",
   "execution_count": 27,
   "metadata": {
    "colab": {
     "base_uri": "https://localhost:8080/",
     "height": 0
    },
    "id": "J3B0g3G5y392",
    "outputId": "9c4f37a0-fc23-46aa-bba6-2c50e703ecbd"
   },
   "outputs": [
    {
     "name": "stdout",
     "output_type": "stream",
     "text": [
      "Epoch 1/20\n",
      "\u001b[1m532/532\u001b[0m \u001b[32m━━━━━━━━━━━━━━━━━━━━\u001b[0m\u001b[37m\u001b[0m \u001b[1m84s\u001b[0m 144ms/step - accuracy: 0.1553 - loss: 9.1864 - val_accuracy: 0.1470 - val_loss: 8.6374\n",
      "Epoch 2/20\n",
      "\u001b[1m  1/532\u001b[0m \u001b[37m━━━━━━━━━━━━━━━━━━━━\u001b[0m \u001b[1m41s\u001b[0m 78ms/step - accuracy: 0.1875 - loss: 2.7192"
     ]
    },
    {
     "name": "stderr",
     "output_type": "stream",
     "text": [
      "/usr/lib/python3.10/contextlib.py:153: UserWarning: Your input ran out of data; interrupting training. Make sure that your dataset or generator can generate at least `steps_per_epoch * epochs` batches. You may need to use the `.repeat()` function when building your dataset.\n",
      "  self.gen.throw(typ, value, traceback)\n"
     ]
    },
    {
     "name": "stdout",
     "output_type": "stream",
     "text": [
      "\b\b\b\b\b\b\b\b\b\b\b\b\b\b\b\b\b\b\b\b\b\b\b\b\b\b\b\b\b\b\b\b\b\b\b\b\b\b\b\b\b\b\b\b\b\b\b\b\b\b\b\b\b\b\b\b\b\b\b\b\b\b\b\b\b\b\b\b\b\b\b\b\b\b\b\b\r",
      "\u001b[1m532/532\u001b[0m \u001b[32m━━━━━━━━━━━━━━━━━━━━\u001b[0m\u001b[37m\u001b[0m \u001b[1m1s\u001b[0m 950us/step - accuracy: 0.1875 - loss: 2.7192 - val_accuracy: 0.0645 - val_loss: 11.1530\n",
      "Epoch 3/20\n",
      "\u001b[1m532/532\u001b[0m \u001b[32m━━━━━━━━━━━━━━━━━━━━\u001b[0m\u001b[37m\u001b[0m \u001b[1m73s\u001b[0m 136ms/step - accuracy: 0.1586 - loss: 7.7740 - val_accuracy: 0.1326 - val_loss: 2.8598\n",
      "Epoch 4/20\n",
      "\u001b[1m532/532\u001b[0m \u001b[32m━━━━━━━━━━━━━━━━━━━━\u001b[0m\u001b[37m\u001b[0m \u001b[1m0s\u001b[0m 65us/step - accuracy: 0.1562 - loss: 2.4797 - val_accuracy: 0.1935 - val_loss: 2.6989\n",
      "Epoch 5/20\n",
      "\u001b[1m532/532\u001b[0m \u001b[32m━━━━━━━━━━━━━━━━━━━━\u001b[0m\u001b[37m\u001b[0m \u001b[1m74s\u001b[0m 138ms/step - accuracy: 0.1583 - loss: 2.2830 - val_accuracy: 0.1408 - val_loss: 2.0801\n",
      "Epoch 6/20\n",
      "\u001b[1m532/532\u001b[0m \u001b[32m━━━━━━━━━━━━━━━━━━━━\u001b[0m\u001b[37m\u001b[0m \u001b[1m0s\u001b[0m 63us/step - accuracy: 0.0312 - loss: 2.0347 - val_accuracy: 0.1613 - val_loss: 2.0640\n",
      "Epoch 7/20\n",
      "\u001b[1m532/532\u001b[0m \u001b[32m━━━━━━━━━━━━━━━━━━━━\u001b[0m\u001b[37m\u001b[0m \u001b[1m72s\u001b[0m 134ms/step - accuracy: 0.1578 - loss: 2.0103 - val_accuracy: 0.1425 - val_loss: 1.9712\n",
      "Epoch 8/20\n",
      "\u001b[1m532/532\u001b[0m \u001b[32m━━━━━━━━━━━━━━━━━━━━\u001b[0m\u001b[37m\u001b[0m \u001b[1m0s\u001b[0m 66us/step - accuracy: 0.1562 - loss: 1.9624 - val_accuracy: 0.1290 - val_loss: 1.9523\n",
      "Epoch 9/20\n",
      "\u001b[1m532/532\u001b[0m \u001b[32m━━━━━━━━━━━━━━━━━━━━\u001b[0m\u001b[37m\u001b[0m \u001b[1m72s\u001b[0m 134ms/step - accuracy: 0.1599 - loss: 2.6156 - val_accuracy: 0.1454 - val_loss: 2.2876\n",
      "Epoch 10/20\n",
      "\u001b[1m532/532\u001b[0m \u001b[32m━━━━━━━━━━━━━━━━━━━━\u001b[0m\u001b[37m\u001b[0m \u001b[1m0s\u001b[0m 68us/step - accuracy: 0.2188 - loss: 2.0266 - val_accuracy: 0.0323 - val_loss: 2.2307\n",
      "Epoch 11/20\n",
      "\u001b[1m532/532\u001b[0m \u001b[32m━━━━━━━━━━━━━━━━━━━━\u001b[0m\u001b[37m\u001b[0m \u001b[1m72s\u001b[0m 133ms/step - accuracy: 0.1564 - loss: 1.9872 - val_accuracy: 0.1428 - val_loss: 1.9483\n",
      "Epoch 12/20\n",
      "\u001b[1m532/532\u001b[0m \u001b[32m━━━━━━━━━━━━━━━━━━━━\u001b[0m\u001b[37m\u001b[0m \u001b[1m0s\u001b[0m 72us/step - accuracy: 0.1562 - loss: 1.9119 - val_accuracy: 0.1290 - val_loss: 1.9168\n",
      "Epoch 13/20\n",
      "\u001b[1m532/532\u001b[0m \u001b[32m━━━━━━━━━━━━━━━━━━━━\u001b[0m\u001b[37m\u001b[0m \u001b[1m73s\u001b[0m 136ms/step - accuracy: 0.1631 - loss: 1.9466 - val_accuracy: 0.1576 - val_loss: 1.9439\n",
      "Epoch 14/20\n",
      "\u001b[1m532/532\u001b[0m \u001b[32m━━━━━━━━━━━━━━━━━━━━\u001b[0m\u001b[37m\u001b[0m \u001b[1m0s\u001b[0m 63us/step - accuracy: 0.1562 - loss: 1.9142 - val_accuracy: 0.1613 - val_loss: 1.9307\n",
      "Epoch 15/20\n",
      "\u001b[1m532/532\u001b[0m \u001b[32m━━━━━━━━━━━━━━━━━━━━\u001b[0m\u001b[37m\u001b[0m \u001b[1m71s\u001b[0m 132ms/step - accuracy: 0.1581 - loss: 1.9440 - val_accuracy: 0.1589 - val_loss: 1.9425\n",
      "Epoch 16/20\n",
      "\u001b[1m532/532\u001b[0m \u001b[32m━━━━━━━━━━━━━━━━━━━━\u001b[0m\u001b[37m\u001b[0m \u001b[1m0s\u001b[0m 63us/step - accuracy: 0.2812 - loss: 1.9210 - val_accuracy: 0.1613 - val_loss: 1.9364\n",
      "Epoch 17/20\n",
      "\u001b[1m532/532\u001b[0m \u001b[32m━━━━━━━━━━━━━━━━━━━━\u001b[0m\u001b[37m\u001b[0m \u001b[1m72s\u001b[0m 134ms/step - accuracy: 0.1583 - loss: 1.9425 - val_accuracy: 0.1590 - val_loss: 1.9419\n",
      "Epoch 18/20\n",
      "\u001b[1m532/532\u001b[0m \u001b[32m━━━━━━━━━━━━━━━━━━━━\u001b[0m\u001b[37m\u001b[0m \u001b[1m0s\u001b[0m 65us/step - accuracy: 0.2188 - loss: 1.9467 - val_accuracy: 0.1290 - val_loss: 1.9599\n",
      "Epoch 19/20\n",
      "\u001b[1m532/532\u001b[0m \u001b[32m━━━━━━━━━━━━━━━━━━━━\u001b[0m\u001b[37m\u001b[0m \u001b[1m71s\u001b[0m 132ms/step - accuracy: 0.1600 - loss: 1.9414 - val_accuracy: 0.1587 - val_loss: 1.9418\n",
      "Epoch 20/20\n",
      "\u001b[1m532/532\u001b[0m \u001b[32m━━━━━━━━━━━━━━━━━━━━\u001b[0m\u001b[37m\u001b[0m \u001b[1m0s\u001b[0m 94us/step - accuracy: 0.0938 - loss: 1.9536 - val_accuracy: 0.1935 - val_loss: 1.9351\n"
     ]
    }
   ],
   "source": [
    "history_regularized_cnn = regularized_cnn_model.fit(\n",
    "    train_generator,\n",
    "    validation_data=validation_generator,\n",
    "    epochs=20,\n",
    "    steps_per_epoch=train_generator.samples // train_generator.batch_size,\n",
    "    validation_steps=validation_generator.samples // validation_generator.batch_size\n",
    ")"
   ]
  },
  {
   "cell_type": "code",
   "execution_count": 29,
   "metadata": {
    "id": "oVRDpdPazK39"
   },
   "outputs": [],
   "source": [
    "def build_fine_tuned_vgg(input_shape):\n",
    "    base_model = VGG16(weights='imagenet', include_top=False, input_shape=input_shape)\n",
    "    base_model.trainable = False\n",
    "\n",
    "    model = Sequential([\n",
    "        base_model,\n",
    "        Flatten(),\n",
    "        Dense(128, activation='relu'),\n",
    "        Dropout(0.5),\n",
    "        Dense(len(emotion_labels), activation='softmax')\n",
    "    ])\n",
    "\n",
    "    model.compile(optimizer='adam', loss='sparse_categorical_crossentropy', metrics=['accuracy'])\n",
    "    return model"
   ]
  },
  {
   "cell_type": "code",
   "execution_count": 30,
   "metadata": {
    "colab": {
     "base_uri": "https://localhost:8080/",
     "height": 0
    },
    "id": "PMjgrNHkzKwL",
    "outputId": "4a07b271-6912-4249-f783-8d8431e1bd3d"
   },
   "outputs": [
    {
     "name": "stdout",
     "output_type": "stream",
     "text": [
      "Downloading data from https://storage.googleapis.com/tensorflow/keras-applications/vgg16/vgg16_weights_tf_dim_ordering_tf_kernels_notop.h5\n",
      "\u001b[1m58889256/58889256\u001b[0m \u001b[32m━━━━━━━━━━━━━━━━━━━━\u001b[0m\u001b[37m\u001b[0m \u001b[1m2s\u001b[0m 0us/step\n",
      "Epoch 1/10\n",
      "\u001b[1m532/532\u001b[0m \u001b[32m━━━━━━━━━━━━━━━━━━━━\u001b[0m\u001b[37m\u001b[0m \u001b[1m113s\u001b[0m 185ms/step - accuracy: 0.1511 - loss: 2.0150 - val_accuracy: 0.1589 - val_loss: 1.9421\n",
      "Epoch 2/10\n",
      "\u001b[1m532/532\u001b[0m \u001b[32m━━━━━━━━━━━━━━━━━━━━\u001b[0m\u001b[37m\u001b[0m \u001b[1m13s\u001b[0m 23ms/step - accuracy: 0.1562 - loss: 1.9372 - val_accuracy: 0.1935 - val_loss: 1.9222\n",
      "Epoch 3/10\n",
      "\u001b[1m532/532\u001b[0m \u001b[32m━━━━━━━━━━━━━━━━━━━━\u001b[0m\u001b[37m\u001b[0m \u001b[1m95s\u001b[0m 178ms/step - accuracy: 0.1567 - loss: 1.9409 - val_accuracy: 0.1587 - val_loss: 1.9417\n",
      "Epoch 4/10\n",
      "\u001b[1m532/532\u001b[0m \u001b[32m━━━━━━━━━━━━━━━━━━━━\u001b[0m\u001b[37m\u001b[0m \u001b[1m0s\u001b[0m 262us/step - accuracy: 0.2188 - loss: 1.9302 - val_accuracy: 0.1935 - val_loss: 1.9388\n",
      "Epoch 5/10\n",
      "\u001b[1m532/532\u001b[0m \u001b[32m━━━━━━━━━━━━━━━━━━━━\u001b[0m\u001b[37m\u001b[0m \u001b[1m98s\u001b[0m 183ms/step - accuracy: 0.1512 - loss: 1.9414 - val_accuracy: 0.1590 - val_loss: 1.9417\n",
      "Epoch 6/10\n",
      "\u001b[1m532/532\u001b[0m \u001b[32m━━━━━━━━━━━━━━━━━━━━\u001b[0m\u001b[37m\u001b[0m \u001b[1m0s\u001b[0m 267us/step - accuracy: 0.2500 - loss: 1.9443 - val_accuracy: 0.1290 - val_loss: 1.9258\n",
      "Epoch 7/10\n",
      "\u001b[1m532/532\u001b[0m \u001b[32m━━━━━━━━━━━━━━━━━━━━\u001b[0m\u001b[37m\u001b[0m \u001b[1m99s\u001b[0m 185ms/step - accuracy: 0.1569 - loss: 1.9411 - val_accuracy: 0.1589 - val_loss: 1.9417\n",
      "Epoch 8/10\n",
      "\u001b[1m532/532\u001b[0m \u001b[32m━━━━━━━━━━━━━━━━━━━━\u001b[0m\u001b[37m\u001b[0m \u001b[1m0s\u001b[0m 260us/step - accuracy: 0.1250 - loss: 1.9314 - val_accuracy: 0.1613 - val_loss: 1.9318\n",
      "Epoch 9/10\n",
      "\u001b[1m532/532\u001b[0m \u001b[32m━━━━━━━━━━━━━━━━━━━━\u001b[0m\u001b[37m\u001b[0m \u001b[1m99s\u001b[0m 185ms/step - accuracy: 0.1576 - loss: 1.9421 - val_accuracy: 0.1585 - val_loss: 1.9417\n",
      "Epoch 10/10\n",
      "\u001b[1m532/532\u001b[0m \u001b[32m━━━━━━━━━━━━━━━━━━━━\u001b[0m\u001b[37m\u001b[0m \u001b[1m0s\u001b[0m 266us/step - accuracy: 0.0938 - loss: 1.9404 - val_accuracy: 0.2581 - val_loss: 1.9279\n"
     ]
    }
   ],
   "source": [
    "vgg_model = build_fine_tuned_vgg(input_shape=(224, 224, 3))\n",
    "history_vgg = vgg_model.fit(\n",
    "    train_generator,\n",
    "    validation_data=validation_generator,\n",
    "    epochs=10,\n",
    "    steps_per_epoch=train_generator.samples // train_generator.batch_size,\n",
    "    validation_steps=validation_generator.samples // validation_generator.batch_size\n",
    ")"
   ]
  },
  {
   "cell_type": "code",
   "execution_count": null,
   "metadata": {
    "id": "CWcvPcSywYml"
   },
   "outputs": [],
   "source": [
    "\n",
    "# cnn_emotion_model_save_path = '/content/drive/MyDrive/Data-Science-Projects/Facial-Emotion-andBody-Language/Models/emotion_cnn_model.h5'\n",
    "# baseline_emotion_cnn_model.save(cnn_emotion_model_save_path)\n",
    "# print(\"Baseline CNN model for facial emotion saved successfully!\")"
   ]
  },
  {
   "cell_type": "markdown",
   "metadata": {
    "id": "deSvH46H8ZB1"
   },
   "source": [
    "Plan:\n",
    "Use a Pre-trained Model (VGG16):  use VGG16 as the backbone, but with the final layers re-trained for your specific classification task.\n",
    "Add Fine-tuning:  unfreeze some of the deeper layers of the pre-trained network and allow them to fine-tune for the facial emotion dataset.\n",
    "Use Data Augmentation: To generalize the model better, use data augmentation.\n",
    "Regularization: use dropout and L2 regularization to avoid overfitting.\n"
   ]
  },
  {
   "cell_type": "code",
   "execution_count": 31,
   "metadata": {
    "id": "7hBLC23q8U73"
   },
   "outputs": [],
   "source": []
  },
  {
   "cell_type": "code",
   "execution_count": 32,
   "metadata": {
    "id": "FEnVE6BW8ctn"
   },
   "outputs": [],
   "source": [
    "datagen = ImageDataGenerator(\n",
    "    rescale=1./255,\n",
    "    validation_split=0.3,\n",
    "    rotation_range=30,\n",
    "    width_shift_range=0.2,\n",
    "    height_shift_range=0.2,\n",
    "    shear_range=0.2,\n",
    "    zoom_range=0.2,\n",
    "    horizontal_flip=True,\n",
    "    fill_mode='nearest'\n",
    ")"
   ]
  },
  {
   "cell_type": "code",
   "execution_count": 33,
   "metadata": {
    "colab": {
     "base_uri": "https://localhost:8080/",
     "height": 0
    },
    "id": "mclnDMy88i-y",
    "outputId": "8d935931-6b58-4f5b-d6b0-e09f416a056a"
   },
   "outputs": [
    {
     "name": "stdout",
     "output_type": "stream",
     "text": [
      "Found 17030 images belonging to 7 classes.\n"
     ]
    }
   ],
   "source": [
    "train_generator = datagen.flow_from_directory(\n",
    "    emotion_dataset_path,\n",
    "    target_size=(224, 224),\n",
    "    batch_size=32,\n",
    "    class_mode='sparse',\n",
    "    subset='training'"
   ]
  },
  {
   "cell_type": "code",
   "execution_count": 34,
   "metadata": {
    "colab": {
     "base_uri": "https://localhost:8080/",
     "height": 0
    },
    "id": "jrCn4_yc8pl1",
    "outputId": "19e02ae4-2d3c-4a14-e97a-75369bcf5c6d"
   },
   "outputs": [
    {
     "name": "stdout",
     "output_type": "stream",
     "text": [
      "Found 7295 images belonging to 7 classes.\n"
     ]
    }
   ],
   "source": [
    "validation_generator = datagen.flow_from_directory(\n",
    "    emotion_dataset_path,\n",
    "    target_size=(224, 224),\n",
    "    batch_size=32,\n",
    "    class_mode='sparse',\n",
    "    subset='validation'\n",
    ")"
   ]
  },
  {
   "cell_type": "code",
   "execution_count": 35,
   "metadata": {
    "id": "nuG46GNr8uAq"
   },
   "outputs": [],
   "source": [
    "base_model = VGG16(weights='imagenet', include_top=False, input_shape=(224, 224, 3))"
   ]
  },
  {
   "cell_type": "code",
   "execution_count": 36,
   "metadata": {
    "id": "VJM2MEBw8xa0"
   },
   "outputs": [],
   "source": [
    "base_model.trainable = False"
   ]
  },
  {
   "cell_type": "code",
   "execution_count": 37,
   "metadata": {
    "id": "WUIY9cCQ80-j"
   },
   "outputs": [],
   "source": [
    "model = Sequential([\n",
    "    base_model,\n",
    "    Flatten(),\n",
    "    Dense(256, activation='relu', kernel_regularizer=l2(0.001)),\n",
    "    Dropout(0.5),\n",
    "    BatchNormalization(),\n",
    "    Dense(len(train_generator.class_indices), activation='softmax')\n",
    "])"
   ]
  },
  {
   "cell_type": "code",
   "execution_count": 38,
   "metadata": {
    "id": "K3STyi4s83tW"
   },
   "outputs": [],
   "source": [
    "optimizer = Adam(learning_rate=0.0001)\n",
    "model.compile(optimizer=optimizer, loss='sparse_categorical_crossentropy', metrics=['accuracy'])"
   ]
  },
  {
   "cell_type": "code",
   "execution_count": 39,
   "metadata": {
    "colab": {
     "base_uri": "https://localhost:8080/",
     "height": 0
    },
    "id": "zs98WtbI878Q",
    "outputId": "62161233-2f05-4e41-d5b9-1f7ed86cd674"
   },
   "outputs": [
    {
     "name": "stdout",
     "output_type": "stream",
     "text": [
      "Epoch 1/10\n"
     ]
    },
    {
     "name": "stderr",
     "output_type": "stream",
     "text": [
      "/usr/local/lib/python3.10/dist-packages/keras/src/trainers/data_adapters/py_dataset_adapter.py:121: UserWarning: Your `PyDataset` class should call `super().__init__(**kwargs)` in its constructor. `**kwargs` can include `workers`, `use_multiprocessing`, `max_queue_size`. Do not pass these arguments to `fit()`, as they will be ignored.\n",
      "  self._warn_if_super_not_called()\n"
     ]
    },
    {
     "name": "stdout",
     "output_type": "stream",
     "text": [
      "\u001b[1m532/532\u001b[0m \u001b[32m━━━━━━━━━━━━━━━━━━━━\u001b[0m\u001b[37m\u001b[0m \u001b[1m347s\u001b[0m 565ms/step - accuracy: 0.1843 - loss: 2.4842 - val_accuracy: 0.2053 - val_loss: 2.1163\n",
      "Epoch 2/10\n",
      "\u001b[1m532/532\u001b[0m \u001b[32m━━━━━━━━━━━━━━━━━━━━\u001b[0m\u001b[37m\u001b[0m \u001b[1m1s\u001b[0m 2ms/step - accuracy: 0.0938 - loss: 2.2907 - val_accuracy: 0.3548 - val_loss: 2.0925\n",
      "Epoch 3/10\n",
      "\u001b[1m532/532\u001b[0m \u001b[32m━━━━━━━━━━━━━━━━━━━━\u001b[0m\u001b[37m\u001b[0m \u001b[1m299s\u001b[0m 557ms/step - accuracy: 0.2153 - loss: 2.1139 - val_accuracy: 0.2551 - val_loss: 2.0736\n",
      "Epoch 4/10\n",
      "\u001b[1m532/532\u001b[0m \u001b[32m━━━━━━━━━━━━━━━━━━━━\u001b[0m\u001b[37m\u001b[0m \u001b[1m0s\u001b[0m 536us/step - accuracy: 0.1562 - loss: 2.1324 - val_accuracy: 0.2581 - val_loss: 2.1104\n",
      "Epoch 5/10\n",
      "\u001b[1m532/532\u001b[0m \u001b[32m━━━━━━━━━━━━━━━━━━━━\u001b[0m\u001b[37m\u001b[0m \u001b[1m298s\u001b[0m 554ms/step - accuracy: 0.2111 - loss: 2.0563 - val_accuracy: 0.2033 - val_loss: 2.0295\n",
      "Epoch 6/10\n",
      "\u001b[1m532/532\u001b[0m \u001b[32m━━━━━━━━━━━━━━━━━━━━\u001b[0m\u001b[37m\u001b[0m \u001b[1m0s\u001b[0m 581us/step - accuracy: 0.2188 - loss: 2.0027 - val_accuracy: 0.1613 - val_loss: 2.0151\n",
      "Epoch 7/10\n",
      "\u001b[1m532/532\u001b[0m \u001b[32m━━━━━━━━━━━━━━━━━━━━\u001b[0m\u001b[37m\u001b[0m \u001b[1m315s\u001b[0m 586ms/step - accuracy: 0.2098 - loss: 2.0245 - val_accuracy: 0.1980 - val_loss: 2.0202\n",
      "Epoch 8/10\n",
      "\u001b[1m532/532\u001b[0m \u001b[32m━━━━━━━━━━━━━━━━━━━━\u001b[0m\u001b[37m\u001b[0m \u001b[1m0s\u001b[0m 580us/step - accuracy: 0.1562 - loss: 2.0513 - val_accuracy: 0.0968 - val_loss: 2.0063\n",
      "Epoch 9/10\n",
      "\u001b[1m532/532\u001b[0m \u001b[32m━━━━━━━━━━━━━━━━━━━━\u001b[0m\u001b[37m\u001b[0m \u001b[1m326s\u001b[0m 607ms/step - accuracy: 0.1966 - loss: 2.0106 - val_accuracy: 0.2600 - val_loss: 1.9591\n",
      "Epoch 10/10\n",
      "\u001b[1m532/532\u001b[0m \u001b[32m━━━━━━━━━━━━━━━━━━━━\u001b[0m\u001b[37m\u001b[0m \u001b[1m0s\u001b[0m 589us/step - accuracy: 0.3438 - loss: 1.9045 - val_accuracy: 0.3226 - val_loss: 1.9409\n"
     ]
    }
   ],
   "source": [
    "history = model.fit(\n",
    "    train_generator,\n",
    "    validation_data=validation_generator,\n",
    "    epochs=10,\n",
    "    steps_per_epoch=train_generator.samples // train_generator.batch_size,\n",
    "    validation_steps=validation_generator.samples // validation_generator.batch_size\n",
    ")"
   ]
  },
  {
   "cell_type": "code",
   "execution_count": 40,
   "metadata": {
    "id": "70BslOM38-rG"
   },
   "outputs": [],
   "source": [
    "base_model.trainable = True"
   ]
  },
  {
   "cell_type": "code",
   "execution_count": 41,
   "metadata": {
    "id": "U9tBiSoo9I8c"
   },
   "outputs": [],
   "source": [
    "fine_tune_optimizer = Adam(learning_rate=1e-5)\n",
    "model.compile(optimizer=fine_tune_optimizer, loss='sparse_categorical_crossentropy', metrics=['accuracy'])"
   ]
  },
  {
   "cell_type": "code",
   "execution_count": 44,
   "metadata": {
    "colab": {
     "base_uri": "https://localhost:8080/",
     "height": 0
    },
    "id": "5L9VHvSy9K-I",
    "outputId": "c9d8d56a-a5e0-49df-a9fc-78b0b8641c87"
   },
   "outputs": [
    {
     "name": "stdout",
     "output_type": "stream",
     "text": [
      "Epoch 1/50\n",
      "\u001b[1m532/532\u001b[0m \u001b[32m━━━━━━━━━━━━━━━━━━━━\u001b[0m\u001b[37m\u001b[0m \u001b[1m349s\u001b[0m 649ms/step - accuracy: 0.5830 - loss: 1.2580 - val_accuracy: 0.5619 - val_loss: 1.2811\n",
      "Epoch 2/50\n",
      "\u001b[1m532/532\u001b[0m \u001b[32m━━━━━━━━━━━━━━━━━━━━\u001b[0m\u001b[37m\u001b[0m \u001b[1m1s\u001b[0m 257us/step - accuracy: 0.5625 - loss: 1.2961 - val_accuracy: 0.5161 - val_loss: 1.3659\n",
      "Epoch 3/50\n",
      "\u001b[1m532/532\u001b[0m \u001b[32m━━━━━━━━━━━━━━━━━━━━\u001b[0m\u001b[37m\u001b[0m \u001b[1m354s\u001b[0m 659ms/step - accuracy: 0.6025 - loss: 1.2200 - val_accuracy: 0.5915 - val_loss: 1.2415\n",
      "Epoch 4/50\n",
      "\u001b[1m532/532\u001b[0m \u001b[32m━━━━━━━━━━━━━━━━━━━━\u001b[0m\u001b[37m\u001b[0m \u001b[1m1s\u001b[0m 251us/step - accuracy: 0.5938 - loss: 1.2686 - val_accuracy: 0.5484 - val_loss: 1.2057\n",
      "Epoch 5/50\n",
      "\u001b[1m532/532\u001b[0m \u001b[32m━━━━━━━━━━━━━━━━━━━━\u001b[0m\u001b[37m\u001b[0m \u001b[1m355s\u001b[0m 662ms/step - accuracy: 0.5982 - loss: 1.2195 - val_accuracy: 0.5931 - val_loss: 1.2400\n",
      "Epoch 6/50\n",
      "\u001b[1m532/532\u001b[0m \u001b[32m━━━━━━━━━━━━━━━━━━━━\u001b[0m\u001b[37m\u001b[0m \u001b[1m1s\u001b[0m 249us/step - accuracy: 0.6875 - loss: 1.1907 - val_accuracy: 0.7097 - val_loss: 1.0537\n",
      "Epoch 7/50\n",
      "\u001b[1m532/532\u001b[0m \u001b[32m━━━━━━━━━━━━━━━━━━━━\u001b[0m\u001b[37m\u001b[0m \u001b[1m355s\u001b[0m 661ms/step - accuracy: 0.6087 - loss: 1.2065 - val_accuracy: 0.5796 - val_loss: 1.2503\n",
      "Epoch 8/50\n",
      "\u001b[1m532/532\u001b[0m \u001b[32m━━━━━━━━━━━━━━━━━━━━\u001b[0m\u001b[37m\u001b[0m \u001b[1m1s\u001b[0m 256us/step - accuracy: 0.6562 - loss: 1.0997 - val_accuracy: 0.4194 - val_loss: 1.4737\n",
      "Epoch 9/50\n",
      "\u001b[1m532/532\u001b[0m \u001b[32m━━━━━━━━━━━━━━━━━━━━\u001b[0m\u001b[37m\u001b[0m \u001b[1m355s\u001b[0m 660ms/step - accuracy: 0.6335 - loss: 1.1688 - val_accuracy: 0.5995 - val_loss: 1.2086\n",
      "Epoch 10/50\n",
      "\u001b[1m532/532\u001b[0m \u001b[32m━━━━━━━━━━━━━━━━━━━━\u001b[0m\u001b[37m\u001b[0m \u001b[1m1s\u001b[0m 253us/step - accuracy: 0.6250 - loss: 1.1830 - val_accuracy: 0.5806 - val_loss: 1.2640\n",
      "Epoch 11/50\n",
      "\u001b[1m532/532\u001b[0m \u001b[32m━━━━━━━━━━━━━━━━━━━━\u001b[0m\u001b[37m\u001b[0m \u001b[1m355s\u001b[0m 661ms/step - accuracy: 0.6259 - loss: 1.1688 - val_accuracy: 0.5936 - val_loss: 1.2290\n",
      "Epoch 12/50\n",
      "\u001b[1m532/532\u001b[0m \u001b[32m━━━━━━━━━━━━━━━━━━━━\u001b[0m\u001b[37m\u001b[0m \u001b[1m1s\u001b[0m 239us/step - accuracy: 0.7188 - loss: 1.1206 - val_accuracy: 0.5484 - val_loss: 1.4804\n",
      "Epoch 13/50\n",
      "\u001b[1m532/532\u001b[0m \u001b[32m━━━━━━━━━━━━━━━━━━━━\u001b[0m\u001b[37m\u001b[0m \u001b[1m355s\u001b[0m 661ms/step - accuracy: 0.6323 - loss: 1.1451 - val_accuracy: 0.6030 - val_loss: 1.2192\n",
      "Epoch 14/50\n",
      "\u001b[1m532/532\u001b[0m \u001b[32m━━━━━━━━━━━━━━━━━━━━\u001b[0m\u001b[37m\u001b[0m \u001b[1m1s\u001b[0m 254us/step - accuracy: 0.5625 - loss: 1.1600 - val_accuracy: 0.6452 - val_loss: 1.0447\n",
      "Epoch 15/50\n",
      "\u001b[1m532/532\u001b[0m \u001b[32m━━━━━━━━━━━━━━━━━━━━\u001b[0m\u001b[37m\u001b[0m \u001b[1m354s\u001b[0m 660ms/step - accuracy: 0.6345 - loss: 1.1315 - val_accuracy: 0.6019 - val_loss: 1.2064\n",
      "Epoch 16/50\n",
      "\u001b[1m532/532\u001b[0m \u001b[32m━━━━━━━━━━━━━━━━━━━━\u001b[0m\u001b[37m\u001b[0m \u001b[1m1s\u001b[0m 241us/step - accuracy: 0.5938 - loss: 1.3318 - val_accuracy: 0.6452 - val_loss: 1.1909\n",
      "Epoch 17/50\n",
      "\u001b[1m532/532\u001b[0m \u001b[32m━━━━━━━━━━━━━━━━━━━━\u001b[0m\u001b[37m\u001b[0m \u001b[1m357s\u001b[0m 664ms/step - accuracy: 0.6519 - loss: 1.1137 - val_accuracy: 0.5933 - val_loss: 1.2205\n",
      "Epoch 18/50\n",
      "\u001b[1m532/532\u001b[0m \u001b[32m━━━━━━━━━━━━━━━━━━━━\u001b[0m\u001b[37m\u001b[0m \u001b[1m1s\u001b[0m 249us/step - accuracy: 0.6250 - loss: 1.2638 - val_accuracy: 0.7097 - val_loss: 1.0576\n",
      "Epoch 19/50\n",
      "\u001b[1m532/532\u001b[0m \u001b[32m━━━━━━━━━━━━━━━━━━━━\u001b[0m\u001b[37m\u001b[0m \u001b[1m355s\u001b[0m 662ms/step - accuracy: 0.6462 - loss: 1.1034 - val_accuracy: 0.6017 - val_loss: 1.2046\n",
      "Epoch 20/50\n",
      "\u001b[1m532/532\u001b[0m \u001b[32m━━━━━━━━━━━━━━━━━━━━\u001b[0m\u001b[37m\u001b[0m \u001b[1m1s\u001b[0m 252us/step - accuracy: 0.6562 - loss: 1.0815 - val_accuracy: 0.6129 - val_loss: 1.1513\n",
      "Epoch 21/50\n",
      "\u001b[1m532/532\u001b[0m \u001b[32m━━━━━━━━━━━━━━━━━━━━\u001b[0m\u001b[37m\u001b[0m \u001b[1m354s\u001b[0m 660ms/step - accuracy: 0.6619 - loss: 1.0766 - val_accuracy: 0.6042 - val_loss: 1.1749\n",
      "Epoch 22/50\n",
      "\u001b[1m532/532\u001b[0m \u001b[32m━━━━━━━━━━━━━━━━━━━━\u001b[0m\u001b[37m\u001b[0m \u001b[1m1s\u001b[0m 251us/step - accuracy: 0.6562 - loss: 0.9631 - val_accuracy: 0.7097 - val_loss: 0.9256\n",
      "Epoch 23/50\n",
      "\u001b[1m532/532\u001b[0m \u001b[32m━━━━━━━━━━━━━━━━━━━━\u001b[0m\u001b[37m\u001b[0m \u001b[1m354s\u001b[0m 660ms/step - accuracy: 0.6705 - loss: 1.0640 - val_accuracy: 0.6132 - val_loss: 1.1684\n",
      "Epoch 24/50\n",
      "\u001b[1m532/532\u001b[0m \u001b[32m━━━━━━━━━━━━━━━━━━━━\u001b[0m\u001b[37m\u001b[0m \u001b[1m1s\u001b[0m 251us/step - accuracy: 0.6562 - loss: 1.1461 - val_accuracy: 0.7097 - val_loss: 1.0362\n",
      "Epoch 25/50\n",
      "\u001b[1m532/532\u001b[0m \u001b[32m━━━━━━━━━━━━━━━━━━━━\u001b[0m\u001b[37m\u001b[0m \u001b[1m355s\u001b[0m 661ms/step - accuracy: 0.6724 - loss: 1.0605 - val_accuracy: 0.6167 - val_loss: 1.1559\n",
      "Epoch 26/50\n",
      "\u001b[1m532/532\u001b[0m \u001b[32m━━━━━━━━━━━━━━━━━━━━\u001b[0m\u001b[37m\u001b[0m \u001b[1m1s\u001b[0m 255us/step - accuracy: 0.5938 - loss: 1.0738 - val_accuracy: 0.7419 - val_loss: 1.0366\n",
      "Epoch 27/50\n",
      "\u001b[1m532/532\u001b[0m \u001b[32m━━━━━━━━━━━━━━━━━━━━\u001b[0m\u001b[37m\u001b[0m \u001b[1m355s\u001b[0m 661ms/step - accuracy: 0.6678 - loss: 1.0562 - val_accuracy: 0.6156 - val_loss: 1.1604\n",
      "Epoch 28/50\n",
      "\u001b[1m532/532\u001b[0m \u001b[32m━━━━━━━━━━━━━━━━━━━━\u001b[0m\u001b[37m\u001b[0m \u001b[1m1s\u001b[0m 252us/step - accuracy: 0.5938 - loss: 1.0897 - val_accuracy: 0.6452 - val_loss: 1.0828\n",
      "Epoch 29/50\n",
      "\u001b[1m532/532\u001b[0m \u001b[32m━━━━━━━━━━━━━━━━━━━━\u001b[0m\u001b[37m\u001b[0m \u001b[1m354s\u001b[0m 660ms/step - accuracy: 0.6802 - loss: 1.0259 - val_accuracy: 0.6154 - val_loss: 1.1595\n",
      "Epoch 30/50\n",
      "\u001b[1m532/532\u001b[0m \u001b[32m━━━━━━━━━━━━━━━━━━━━\u001b[0m\u001b[37m\u001b[0m \u001b[1m1s\u001b[0m 258us/step - accuracy: 0.8438 - loss: 0.7758 - val_accuracy: 0.6774 - val_loss: 1.0656\n",
      "Epoch 31/50\n",
      "\u001b[1m532/532\u001b[0m \u001b[32m━━━━━━━━━━━━━━━━━━━━\u001b[0m\u001b[37m\u001b[0m \u001b[1m355s\u001b[0m 661ms/step - accuracy: 0.6897 - loss: 1.0065 - val_accuracy: 0.6147 - val_loss: 1.1499\n",
      "Epoch 32/50\n",
      "\u001b[1m532/532\u001b[0m \u001b[32m━━━━━━━━━━━━━━━━━━━━\u001b[0m\u001b[37m\u001b[0m \u001b[1m1s\u001b[0m 247us/step - accuracy: 0.6875 - loss: 1.0998 - val_accuracy: 0.4516 - val_loss: 1.4474\n",
      "Epoch 33/50\n",
      "\u001b[1m532/532\u001b[0m \u001b[32m━━━━━━━━━━━━━━━━━━━━\u001b[0m\u001b[37m\u001b[0m \u001b[1m355s\u001b[0m 661ms/step - accuracy: 0.6980 - loss: 0.9846 - val_accuracy: 0.6045 - val_loss: 1.1724\n",
      "Epoch 34/50\n",
      "\u001b[1m532/532\u001b[0m \u001b[32m━━━━━━━━━━━━━━━━━━━━\u001b[0m\u001b[37m\u001b[0m \u001b[1m1s\u001b[0m 251us/step - accuracy: 0.6875 - loss: 1.1373 - val_accuracy: 0.5161 - val_loss: 1.2436\n",
      "Epoch 35/50\n",
      "\u001b[1m532/532\u001b[0m \u001b[32m━━━━━━━━━━━━━━━━━━━━\u001b[0m\u001b[37m\u001b[0m \u001b[1m356s\u001b[0m 663ms/step - accuracy: 0.7013 - loss: 0.9720 - val_accuracy: 0.6123 - val_loss: 1.1562\n",
      "Epoch 36/50\n",
      "\u001b[1m532/532\u001b[0m \u001b[32m━━━━━━━━━━━━━━━━━━━━\u001b[0m\u001b[37m\u001b[0m \u001b[1m1s\u001b[0m 255us/step - accuracy: 0.6250 - loss: 1.0571 - val_accuracy: 0.5806 - val_loss: 1.1327\n",
      "Epoch 37/50\n",
      "\u001b[1m532/532\u001b[0m \u001b[32m━━━━━━━━━━━━━━━━━━━━\u001b[0m\u001b[37m\u001b[0m \u001b[1m354s\u001b[0m 660ms/step - accuracy: 0.6993 - loss: 0.9758 - val_accuracy: 0.6174 - val_loss: 1.1393\n",
      "Epoch 38/50\n",
      "\u001b[1m532/532\u001b[0m \u001b[32m━━━━━━━━━━━━━━━━━━━━\u001b[0m\u001b[37m\u001b[0m \u001b[1m1s\u001b[0m 262us/step - accuracy: 0.6562 - loss: 1.0183 - val_accuracy: 0.5806 - val_loss: 1.4199\n",
      "Epoch 39/50\n",
      "\u001b[1m532/532\u001b[0m \u001b[32m━━━━━━━━━━━━━━━━━━━━\u001b[0m\u001b[37m\u001b[0m \u001b[1m354s\u001b[0m 660ms/step - accuracy: 0.7088 - loss: 0.9589 - val_accuracy: 0.6138 - val_loss: 1.1429\n",
      "Epoch 40/50\n",
      "\u001b[1m532/532\u001b[0m \u001b[32m━━━━━━━━━━━━━━━━━━━━\u001b[0m\u001b[37m\u001b[0m \u001b[1m1s\u001b[0m 257us/step - accuracy: 0.8125 - loss: 0.9414 - val_accuracy: 0.6774 - val_loss: 1.1445\n",
      "Epoch 41/50\n",
      "\u001b[1m532/532\u001b[0m \u001b[32m━━━━━━━━━━━━━━━━━━━━\u001b[0m\u001b[37m\u001b[0m \u001b[1m353s\u001b[0m 659ms/step - accuracy: 0.7179 - loss: 0.9377 - val_accuracy: 0.6225 - val_loss: 1.1213\n",
      "Epoch 42/50\n",
      "\u001b[1m532/532\u001b[0m \u001b[32m━━━━━━━━━━━━━━━━━━━━\u001b[0m\u001b[37m\u001b[0m \u001b[1m1s\u001b[0m 243us/step - accuracy: 0.7812 - loss: 0.9559 - val_accuracy: 0.5484 - val_loss: 1.2449\n",
      "Epoch 43/50\n",
      "\u001b[1m532/532\u001b[0m \u001b[32m━━━━━━━━━━━━━━━━━━━━\u001b[0m\u001b[37m\u001b[0m \u001b[1m350s\u001b[0m 653ms/step - accuracy: 0.7236 - loss: 0.9174 - val_accuracy: 0.6152 - val_loss: 1.1329\n",
      "Epoch 44/50\n",
      "\u001b[1m532/532\u001b[0m \u001b[32m━━━━━━━━━━━━━━━━━━━━\u001b[0m\u001b[37m\u001b[0m \u001b[1m1s\u001b[0m 264us/step - accuracy: 0.6562 - loss: 1.0237 - val_accuracy: 0.5161 - val_loss: 1.6118\n",
      "Epoch 45/50\n",
      "\u001b[1m532/532\u001b[0m \u001b[32m━━━━━━━━━━━━━━━━━━━━\u001b[0m\u001b[37m\u001b[0m \u001b[1m357s\u001b[0m 666ms/step - accuracy: 0.7283 - loss: 0.9063 - val_accuracy: 0.6273 - val_loss: 1.1135\n",
      "Epoch 46/50\n",
      "\u001b[1m532/532\u001b[0m \u001b[32m━━━━━━━━━━━━━━━━━━━━\u001b[0m\u001b[37m\u001b[0m \u001b[1m1s\u001b[0m 246us/step - accuracy: 0.6875 - loss: 0.9738 - val_accuracy: 0.6452 - val_loss: 1.0545\n",
      "Epoch 47/50\n",
      "\u001b[1m532/532\u001b[0m \u001b[32m━━━━━━━━━━━━━━━━━━━━\u001b[0m\u001b[37m\u001b[0m \u001b[1m359s\u001b[0m 668ms/step - accuracy: 0.7376 - loss: 0.8915 - val_accuracy: 0.6126 - val_loss: 1.1497\n",
      "Epoch 48/50\n",
      "\u001b[1m532/532\u001b[0m \u001b[32m━━━━━━━━━━━━━━━━━━━━\u001b[0m\u001b[37m\u001b[0m \u001b[1m1s\u001b[0m 261us/step - accuracy: 0.7500 - loss: 0.8335 - val_accuracy: 0.6129 - val_loss: 1.0648\n",
      "Epoch 49/50\n",
      "\u001b[1m532/532\u001b[0m \u001b[32m━━━━━━━━━━━━━━━━━━━━\u001b[0m\u001b[37m\u001b[0m \u001b[1m359s\u001b[0m 668ms/step - accuracy: 0.7468 - loss: 0.8683 - val_accuracy: 0.6144 - val_loss: 1.1537\n",
      "Epoch 50/50\n",
      "\u001b[1m532/532\u001b[0m \u001b[32m━━━━━━━━━━━━━━━━━━━━\u001b[0m\u001b[37m\u001b[0m \u001b[1m1s\u001b[0m 252us/step - accuracy: 0.7812 - loss: 0.8483 - val_accuracy: 0.6452 - val_loss: 0.9784\n"
     ]
    }
   ],
   "source": [
    "fine_tune_history = model.fit(\n",
    "    train_generator,\n",
    "    validation_data=validation_generator,\n",
    "    epochs=50,\n",
    "    steps_per_epoch=train_generator.samples // train_generator.batch_size,\n",
    "    validation_steps=validation_generator.samples // validation_generator.batch_size\n",
    ")"
   ]
  },
  {
   "cell_type": "code",
   "execution_count": 53,
   "metadata": {
    "id": "FcZumialExUe"
   },
   "outputs": [],
   "source": [
    "early_stopping = EarlyStopping(monitor='val_loss', patience=5, restore_best_weights=True)\n",
    "reduce_lr = ReduceLROnPlateau(monitor='val_loss', factor=0.2, patience=3, min_lr=1e-6)"
   ]
  },
  {
   "cell_type": "code",
   "execution_count": 61,
   "metadata": {
    "colab": {
     "base_uri": "https://localhost:8080/",
     "height": 0
    },
    "id": "ifw_WUHGGbuy",
    "outputId": "4e2f8ad0-8d0e-41c4-f1e3-665c98146c04"
   },
   "outputs": [
    {
     "name": "stdout",
     "output_type": "stream",
     "text": [
      "Epoch 1/20\n",
      "\u001b[1m532/532\u001b[0m \u001b[32m━━━━━━━━━━━━━━━━━━━━\u001b[0m\u001b[37m\u001b[0m \u001b[1m347s\u001b[0m 646ms/step - accuracy: 0.7967 - loss: 0.7384 - val_accuracy: 0.6338 - val_loss: 1.0919 - learning_rate: 1.0000e-06\n",
      "Epoch 2/20\n",
      "\u001b[1m532/532\u001b[0m \u001b[32m━━━━━━━━━━━━━━━━━━━━\u001b[0m\u001b[37m\u001b[0m \u001b[1m1s\u001b[0m 254us/step - accuracy: 0.7812 - loss: 0.7370 - val_accuracy: 0.5806 - val_loss: 1.0878 - learning_rate: 1.0000e-06\n",
      "Epoch 3/20\n",
      "\u001b[1m532/532\u001b[0m \u001b[32m━━━━━━━━━━━━━━━━━━━━\u001b[0m\u001b[37m\u001b[0m \u001b[1m349s\u001b[0m 649ms/step - accuracy: 0.8133 - loss: 0.7245 - val_accuracy: 0.6316 - val_loss: 1.0959 - learning_rate: 1.0000e-06\n",
      "Epoch 4/20\n",
      "\u001b[1m532/532\u001b[0m \u001b[32m━━━━━━━━━━━━━━━━━━━━\u001b[0m\u001b[37m\u001b[0m \u001b[1m1s\u001b[0m 260us/step - accuracy: 0.7500 - loss: 0.8532 - val_accuracy: 0.6452 - val_loss: 1.0798 - learning_rate: 1.0000e-06\n",
      "Epoch 5/20\n",
      "\u001b[1m532/532\u001b[0m \u001b[32m━━━━━━━━━━━━━━━━━━━━\u001b[0m\u001b[37m\u001b[0m \u001b[1m352s\u001b[0m 656ms/step - accuracy: 0.8052 - loss: 0.7356 - val_accuracy: 0.6353 - val_loss: 1.0884 - learning_rate: 1.0000e-06\n",
      "Epoch 6/20\n",
      "\u001b[1m532/532\u001b[0m \u001b[32m━━━━━━━━━━━━━━━━━━━━\u001b[0m\u001b[37m\u001b[0m \u001b[1m1s\u001b[0m 255us/step - accuracy: 0.8750 - loss: 0.6471 - val_accuracy: 0.4516 - val_loss: 1.4296 - learning_rate: 1.0000e-06\n",
      "Epoch 7/20\n",
      "\u001b[1m532/532\u001b[0m \u001b[32m━━━━━━━━━━━━━━━━━━━━\u001b[0m\u001b[37m\u001b[0m \u001b[1m346s\u001b[0m 645ms/step - accuracy: 0.7988 - loss: 0.7290 - val_accuracy: 0.6401 - val_loss: 1.0850 - learning_rate: 1.0000e-06\n",
      "Epoch 8/20\n",
      "\u001b[1m532/532\u001b[0m \u001b[32m━━━━━━━━━━━━━━━━━━━━\u001b[0m\u001b[37m\u001b[0m \u001b[1m1s\u001b[0m 256us/step - accuracy: 0.9062 - loss: 0.5811 - val_accuracy: 0.5806 - val_loss: 1.3368 - learning_rate: 1.0000e-06\n",
      "Epoch 9/20\n",
      "\u001b[1m532/532\u001b[0m \u001b[32m━━━━━━━━━━━━━━━━━━━━\u001b[0m\u001b[37m\u001b[0m \u001b[1m348s\u001b[0m 648ms/step - accuracy: 0.8084 - loss: 0.7191 - val_accuracy: 0.6346 - val_loss: 1.0868 - learning_rate: 1.0000e-06\n",
      "Epoch 10/20\n",
      "\u001b[1m532/532\u001b[0m \u001b[32m━━━━━━━━━━━━━━━━━━━━\u001b[0m\u001b[37m\u001b[0m \u001b[1m1s\u001b[0m 261us/step - accuracy: 0.8438 - loss: 0.6200 - val_accuracy: 0.5806 - val_loss: 1.1675 - learning_rate: 1.0000e-06\n",
      "Epoch 11/20\n",
      "\u001b[1m532/532\u001b[0m \u001b[32m━━━━━━━━━━━━━━━━━━━━\u001b[0m\u001b[37m\u001b[0m \u001b[1m349s\u001b[0m 650ms/step - accuracy: 0.8070 - loss: 0.7165 - val_accuracy: 0.6334 - val_loss: 1.1009 - learning_rate: 1.0000e-06\n",
      "Epoch 12/20\n",
      "\u001b[1m532/532\u001b[0m \u001b[32m━━━━━━━━━━━━━━━━━━━━\u001b[0m\u001b[37m\u001b[0m \u001b[1m1s\u001b[0m 244us/step - accuracy: 0.7188 - loss: 0.7736 - val_accuracy: 0.6129 - val_loss: 1.0127 - learning_rate: 1.0000e-06\n",
      "Epoch 13/20\n",
      "\u001b[1m532/532\u001b[0m \u001b[32m━━━━━━━━━━━━━━━━━━━━\u001b[0m\u001b[37m\u001b[0m \u001b[1m352s\u001b[0m 656ms/step - accuracy: 0.8054 - loss: 0.7258 - val_accuracy: 0.6360 - val_loss: 1.0854 - learning_rate: 1.0000e-06\n",
      "Epoch 14/20\n",
      "\u001b[1m532/532\u001b[0m \u001b[32m━━━━━━━━━━━━━━━━━━━━\u001b[0m\u001b[37m\u001b[0m \u001b[1m1s\u001b[0m 256us/step - accuracy: 0.8438 - loss: 0.6214 - val_accuracy: 0.5161 - val_loss: 1.4273 - learning_rate: 1.0000e-06\n",
      "Epoch 15/20\n",
      "\u001b[1m532/532\u001b[0m \u001b[32m━━━━━━━━━━━━━━━━━━━━\u001b[0m\u001b[37m\u001b[0m \u001b[1m349s\u001b[0m 650ms/step - accuracy: 0.8068 - loss: 0.7218 - val_accuracy: 0.6403 - val_loss: 1.0851 - learning_rate: 1.0000e-06\n",
      "Epoch 16/20\n",
      "\u001b[1m532/532\u001b[0m \u001b[32m━━━━━━━━━━━━━━━━━━━━\u001b[0m\u001b[37m\u001b[0m \u001b[1m1s\u001b[0m 255us/step - accuracy: 0.8125 - loss: 0.7036 - val_accuracy: 0.6774 - val_loss: 1.0581 - learning_rate: 1.0000e-06\n",
      "Epoch 17/20\n",
      "\u001b[1m532/532\u001b[0m \u001b[32m━━━━━━━━━━━━━━━━━━━━\u001b[0m\u001b[37m\u001b[0m \u001b[1m349s\u001b[0m 650ms/step - accuracy: 0.8118 - loss: 0.7141 - val_accuracy: 0.6341 - val_loss: 1.0965 - learning_rate: 1.0000e-06\n",
      "Epoch 18/20\n",
      "\u001b[1m532/532\u001b[0m \u001b[32m━━━━━━━━━━━━━━━━━━━━\u001b[0m\u001b[37m\u001b[0m \u001b[1m1s\u001b[0m 255us/step - accuracy: 0.8438 - loss: 0.6445 - val_accuracy: 0.8387 - val_loss: 0.7629 - learning_rate: 1.0000e-06\n",
      "Epoch 19/20\n",
      "\u001b[1m532/532\u001b[0m \u001b[32m━━━━━━━━━━━━━━━━━━━━\u001b[0m\u001b[37m\u001b[0m \u001b[1m348s\u001b[0m 649ms/step - accuracy: 0.8071 - loss: 0.7160 - val_accuracy: 0.6328 - val_loss: 1.0998 - learning_rate: 1.0000e-06\n",
      "Epoch 20/20\n",
      "\u001b[1m532/532\u001b[0m \u001b[32m━━━━━━━━━━━━━━━━━━━━\u001b[0m\u001b[37m\u001b[0m \u001b[1m1s\u001b[0m 251us/step - accuracy: 0.8125 - loss: 0.6581 - val_accuracy: 0.4516 - val_loss: 1.2219 - learning_rate: 1.0000e-06\n"
     ]
    }
   ],
   "source": [
    "fine_tune_history = model.fit(\n",
    "    train_generator,\n",
    "    validation_data=validation_generator,\n",
    "    epochs=20,\n",
    "    steps_per_epoch=train_generator.samples // train_generator.batch_size,\n",
    "    validation_steps=validation_generator.samples // validation_generator.batch_size,\n",
    "    callbacks=[reduce_lr]\n",
    ")"
   ]
  },
  {
   "cell_type": "code",
   "execution_count": 62,
   "metadata": {
    "colab": {
     "base_uri": "https://localhost:8080/",
     "height": 472
    },
    "id": "ueaK0tEqGfVb",
    "outputId": "2d695f1f-c7fc-46f7-e99e-331b7bf99de3"
   },
   "outputs": [
    {
     "data": {
      "image/png": "[encoded data removed]",
      "text/plain": [
       "<Figure size 640x480 with 1 Axes>"
      ]
     },
     "metadata": {},
     "output_type": "display_data"
    }
   ],
   "source": [
    "\n",
    "plt.plot(fine_tune_history.history['accuracy'], label='Train Accuracy')\n",
    "plt.plot(fine_tune_history.history['val_accuracy'], label='Validation Accuracy')\n",
    "plt.xlabel('Epochs')\n",
    "plt.ylabel('Accuracy')\n",
    "plt.legend()\n",
    "plt.title('Fine Tunned Accuracy for Facial Emotion Detection')\n",
    "plt.show()"
   ]
  },
  {
   "cell_type": "code",
   "execution_count": 63,
   "metadata": {
    "colab": {
     "base_uri": "https://localhost:8080/",
     "height": 472
    },
    "id": "00sJIk7hGohE",
    "outputId": "e863e0c0-c9e1-404e-f9c9-a7d01aa15373"
   },
   "outputs": [
    {
     "data": {
      "image/png": "[encoded data removed]",
      "text/plain": [
       "<Figure size 640x480 with 1 Axes>"
      ]
     },
     "metadata": {},
     "output_type": "display_data"
    }
   ],
   "source": [
    "\n",
    "plt.plot(fine_tune_history.history['loss'], label='Train Loss')\n",
    "plt.plot(fine_tune_history.history['val_loss'], label='Validation Loss')\n",
    "plt.xlabel('Epochs')\n",
    "plt.ylabel('Loss')\n",
    "plt.legend()\n",
    "plt.title('Fine Tunned Loss for Facial Emotion Detection')\n",
    "plt.show()"
   ]
  },
  {
   "cell_type": "code",
   "execution_count": 64,
   "metadata": {
    "colab": {
     "base_uri": "https://localhost:8080/",
     "height": 0
    },
    "id": "C2dO103-Gq4K",
    "outputId": "21a078b9-2086-453e-a2e5-5121ea5b0552"
   },
   "outputs": [
    {
     "name": "stdout",
     "output_type": "stream",
     "text": [
      "\u001b[1m228/228\u001b[0m \u001b[32m━━━━━━━━━━━━━━━━━━━━\u001b[0m\u001b[37m\u001b[0m \u001b[1m87s\u001b[0m 379ms/step - accuracy: 0.6390 - loss: 1.0845\n",
      "Test Accuracy: 63.91%\n"
     ]
    }
   ],
   "source": [
    "test_loss, test_accuracy = model.evaluate(validation_generator)\n",
    "print(f\"Test Accuracy: {test_accuracy * 100:.2f}%\")"
   ]
  },
  {
   "cell_type": "code",
   "execution_count": 65,
   "metadata": {
    "colab": {
     "base_uri": "https://localhost:8080/",
     "height": 0
    },
    "id": "ATp6iNbGGs_n",
    "outputId": "62957721-b012-48af-f2a7-15452234b1b4"
   },
   "outputs": [
    {
     "name": "stdout",
     "output_type": "stream",
     "text": [
      "\u001b[1m228/228\u001b[0m \u001b[32m━━━━━━━━━━━━━━━━━━━━\u001b[0m\u001b[37m\u001b[0m \u001b[1m85s\u001b[0m 374ms/step\n"
     ]
    }
   ],
   "source": [
    "y_pred_emotion = model.predict(validation_generator)\n",
    "y_pred_emotion = np.argmax(y_pred_emotion, axis=1)"
   ]
  },
  {
   "cell_type": "code",
   "execution_count": 66,
   "metadata": {
    "colab": {
     "base_uri": "https://localhost:8080/",
     "height": 0
    },
    "id": "Evc_NCilGvNz",
    "outputId": "a83b8c12-976e-4c23-966a-f782cd3fe13a"
   },
   "outputs": [
    {
     "name": "stderr",
     "output_type": "stream",
     "text": [
      "WARNING:absl:You are saving your model as an HDF5 file via `model.save()` or `keras.saving.save_model(model)`. This file format is considered legacy. We recommend using instead the native Keras format, e.g. `model.save('my_model.keras')` or `keras.saving.save_model(model, 'my_model.keras')`. \n"
     ]
    },
    {
     "name": "stdout",
     "output_type": "stream",
     "text": [
      "Fine-tuned VGG model saved successfully!\n"
     ]
    }
   ],
   "source": [
    "\n",
    "model_save_path = '/content/drive/MyDrive/Data-Science-Projects/Facial-Emotion-andBody-Language/Models/emotion_finetuned_model_final1.h5'\n",
    "model.save(model_save_path)\n",
    "print(\"Fine-tuned VGG model saved successfully!\")"
   ]
  },
  {
   "cell_type": "code",
   "execution_count": null,
   "metadata": {
    "id": "wkWfZ0Ubxn_T"
   },
   "outputs": [],
   "source": []
  }
 ],
 "metadata": {
  "accelerator": "GPU",
  "colab": {
   "gpuType": "T4",
   "machine_shape": "hm",
   "provenance": []
  },
  "kernelspec": {
   "display_name": "Python 3 (ipykernel)",
   "language": "python",
   "name": "python3"
  },
  "language_info": {
   "codemirror_mode": {
    "name": "ipython",
    "version": 3
   },
   "file_extension": ".py",
   "mimetype": "text/x-python",
   "name": "python",
   "nbconvert_exporter": "python",
   "pygments_lexer": "ipython3",
   "version": "3.11.5"
  }
 },
 "nbformat": 4,
 "nbformat_minor": 1
}

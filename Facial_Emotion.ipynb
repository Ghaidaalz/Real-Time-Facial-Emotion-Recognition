{
  "nbformat": 4,
  "nbformat_minor": 0,
  "metadata": {
    "colab": {
      "provenance": [],
      "machine_shape": "hm",
      "gpuType": "T4"
    },
    "kernelspec": {
      "name": "python3",
      "display_name": "Python 3"
    },
    "language_info": {
      "name": "python"
    },
    "accelerator": "GPU"
  },
  "cells": [
    {
      "cell_type": "markdown",
      "source": [
        "***Google Drive Connection ***"
      ],
      "metadata": {
        "id": "9OpwQgQ4Y95l"
      }
    },
    {
      "cell_type": "code",
      "execution_count": null,
      "metadata": {
        "id": "ErqJW4Z6hTGs"
      },
      "outputs": [],
      "source": [
        "from google.colab import drive\n",
        "import zipfile\n",
        "import os\n",
        "import warnings\n",
        "warnings.filterwarnings('ignore')"
      ]
    },
    {
      "cell_type": "code",
      "source": [
        "# Mount Google Drive\n",
        "drive.mount('/content/drive')\n"
      ],
      "metadata": {
        "colab": {
          "base_uri": "https://localhost:8080/"
        },
        "id": "5B7_xhmMN8_r",
        "outputId": "b9727d76-e9c8-43dd-b564-304212df2652"
      },
      "execution_count": null,
      "outputs": [
        {
          "output_type": "stream",
          "name": "stdout",
          "text": [
            "Drive already mounted at /content/drive; to attempt to forcibly remount, call drive.mount(\"/content/drive\", force_remount=True).\n"
          ]
        }
      ]
    },
    {
      "cell_type": "markdown",
      "source": [
        "**Unzipping Dataset**"
      ],
      "metadata": {
        "id": "Jh8av7a3ZOQS"
      }
    },
    {
      "cell_type": "code",
      "source": [
        "# zip_path = '/content/drive/MyDrive/Facial-Emotion-andBody-Language/Datasets/FE-Balanced-Data.zip'\n",
        "\n",
        "# extract_to = os.path.dirname(zip_path)\n",
        "\n",
        "# with zipfile.ZipFile(zip_path, 'r') as zip_ref:\n",
        "#     zip_ref.extractall(extract_to)\n",
        "\n",
        "# print('Files extracted successfully.')"
      ],
      "metadata": {
        "id": "qiPd85J9N_4a"
      },
      "execution_count": null,
      "outputs": []
    },
    {
      "cell_type": "code",
      "source": [
        "# posture_data_path = '/content/drive/MyDrive/Facial-Emotion-andBody-Language/Datasets/Master-Dataset-Body.zip'\n",
        "\n",
        "# import zipfile\n",
        "# with zipfile.ZipFile(posture_data_path, 'r') as zip_ref:\n",
        "#     zip_ref.extractall('/content/drive/MyDrive/Facial-Emotion-andBody-Language/Datasets/Master-Dataset-Body')\n"
      ],
      "metadata": {
        "id": "p62b1U3SgQ2b"
      },
      "execution_count": null,
      "outputs": []
    },
    {
      "cell_type": "markdown",
      "source": [
        "Data Loading"
      ],
      "metadata": {
        "id": "7KoIVFfbZbLK"
      }
    },
    {
      "cell_type": "code",
      "source": [
        "emotion_data_path = '/content/drive/MyDrive/Facial-Emotion-andBody-Language/Datasets/FINAL-NewbalancedFE'\n",
        "posture_data_path = '/content/drive/MyDrive/Facial-Emotion-andBody-Language/Datasets/Master-Dataset-Body/Master-Dataset'"
      ],
      "metadata": {
        "id": "vvN8Y9mwY9MV"
      },
      "execution_count": null,
      "outputs": []
    },
    {
      "cell_type": "markdown",
      "source": [
        "Step 1: Data Preparation on Google Colab"
      ],
      "metadata": {
        "id": "jL8qudrzjRp2"
      }
    },
    {
      "cell_type": "markdown",
      "source": [
        "Preprocessing the Data\n",
        "Next, we need to load the images, convert them into arrays, and split them into training and testing sets."
      ],
      "metadata": {
        "id": "BquR_uXBhKN2"
      }
    },
    {
      "cell_type": "code",
      "source": [
        "import tensorflow as tf\n",
        "from tensorflow.keras.preprocessing.image import ImageDataGenerator\n",
        "from sklearn.model_selection import train_test_split\n",
        "import numpy as np\n",
        "import os\n",
        "\n",
        "img_size = (224, 224)\n",
        "batch_size = 32\n",
        "\n",
        "emotion_datagen = ImageDataGenerator(rescale=1./255, validation_split=0.2)\n",
        "\n",
        "emotion_train_data = emotion_datagen.flow_from_directory(\n",
        "    emotion_data_path,\n",
        "    target_size=img_size,\n",
        "    batch_size=batch_size,\n",
        "    class_mode='categorical',\n",
        "    subset='training')\n",
        "\n",
        "emotion_val_data = emotion_datagen.flow_from_directory(\n",
        "    emotion_data_path,\n",
        "    target_size=img_size,\n",
        "    batch_size=batch_size,\n",
        "    class_mode='categorical',\n",
        "    subset='validation')\n"
      ],
      "metadata": {
        "colab": {
          "base_uri": "https://localhost:8080/"
        },
        "id": "0OAuIleIOMxk",
        "outputId": "5d2310db-47a4-4304-cf06-05b2aed14c63"
      },
      "execution_count": null,
      "outputs": [
        {
          "output_type": "stream",
          "name": "stdout",
          "text": [
            "Found 19461 images belonging to 7 classes.\n",
            "Found 4864 images belonging to 7 classes.\n"
          ]
        }
      ]
    },
    {
      "cell_type": "code",
      "source": [
        "posture_datagen = ImageDataGenerator(rescale=1./255, validation_split=0.2)\n",
        "\n",
        "posture_train_data = posture_datagen.flow_from_directory(\n",
        "    posture_data_path,\n",
        "    target_size=img_size,\n",
        "    batch_size=batch_size,\n",
        "    class_mode='categorical',\n",
        "    subset='training')\n",
        "\n",
        "posture_val_data = posture_datagen.flow_from_directory(\n",
        "    posture_data_path,\n",
        "    target_size=img_size,\n",
        "    batch_size=batch_size,\n",
        "    class_mode='categorical',\n",
        "    subset='validation')"
      ],
      "metadata": {
        "colab": {
          "base_uri": "https://localhost:8080/"
        },
        "id": "ER_2apIshOiQ",
        "outputId": "65419921-cd39-4957-ca84-16135892a846"
      },
      "execution_count": null,
      "outputs": [
        {
          "output_type": "stream",
          "name": "stdout",
          "text": [
            "Found 2344 images belonging to 3 classes.\n",
            "Found 585 images belonging to 3 classes.\n"
          ]
        }
      ]
    },
    {
      "cell_type": "markdown",
      "source": [
        "Step 2: Building the Baseline CNN Model\n",
        "Now, let's create a simple CNN baseline model for the facial emotion dataset.\n",
        "\n",
        "CNN Model for Facial Emotion Recognition"
      ],
      "metadata": {
        "id": "u_VrfcggjKB6"
      }
    },
    {
      "cell_type": "code",
      "source": [
        "from tensorflow.keras import layers, models\n",
        "\n",
        "def create_cnn_model(input_shape, num_classes):\n",
        "    model = models.Sequential([\n",
        "        layers.Conv2D(32, (3, 3), activation='relu', input_shape=input_shape),\n",
        "        layers.MaxPooling2D((2, 2)),\n",
        "        layers.Conv2D(64, (3, 3), activation='relu'),\n",
        "        layers.MaxPooling2D((2, 2)),\n",
        "        layers.Conv2D(128, (3, 3), activation='relu'),\n",
        "        layers.MaxPooling2D((2, 2)),\n",
        "        layers.Flatten(),\n",
        "        layers.Dense(128, activation='relu'),\n",
        "        layers.Dense(num_classes, activation='softmax')\n",
        "    ])\n",
        "\n",
        "    model.compile(optimizer='adam',\n",
        "                  loss='categorical_crossentropy',\n",
        "                  metrics=['accuracy'])\n",
        "\n",
        "    return model\n"
      ],
      "metadata": {
        "id": "jz3-UVgui3Ds"
      },
      "execution_count": null,
      "outputs": []
    },
    {
      "cell_type": "code",
      "source": [
        "\n",
        "cnn_emotion_model = create_cnn_model(img_size + (3,), num_classes=emotion_train_data.num_classes)\n"
      ],
      "metadata": {
        "id": "73WNR3_RjWsu"
      },
      "execution_count": null,
      "outputs": []
    },
    {
      "cell_type": "code",
      "source": [
        "history = cnn_emotion_model.fit(\n",
        "    emotion_train_data,\n",
        "    epochs=10,\n",
        "    validation_data=emotion_val_data\n",
        ")"
      ],
      "metadata": {
        "colab": {
          "base_uri": "https://localhost:8080/"
        },
        "id": "APt5mxMIjktl",
        "outputId": "98addebf-e6af-468a-d957-38414316836c"
      },
      "execution_count": null,
      "outputs": [
        {
          "output_type": "stream",
          "name": "stdout",
          "text": [
            "Epoch 1/10\n",
            "\u001b[1m609/609\u001b[0m \u001b[32m━━━━━━━━━━━━━━━━━━━━\u001b[0m\u001b[37m\u001b[0m \u001b[1m5370s\u001b[0m 9s/step - accuracy: 0.2105 - loss: 1.9501 - val_accuracy: 0.3612 - val_loss: 1.6710\n",
            "Epoch 2/10\n",
            "\u001b[1m609/609\u001b[0m \u001b[32m━━━━━━━━━━━━━━━━━━━━\u001b[0m\u001b[37m\u001b[0m \u001b[1m69s\u001b[0m 112ms/step - accuracy: 0.3996 - loss: 1.5778 - val_accuracy: 0.4118 - val_loss: 1.5837\n",
            "Epoch 3/10\n",
            "\u001b[1m609/609\u001b[0m \u001b[32m━━━━━━━━━━━━━━━━━━━━\u001b[0m\u001b[37m\u001b[0m \u001b[1m67s\u001b[0m 108ms/step - accuracy: 0.5189 - loss: 1.2887 - val_accuracy: 0.4387 - val_loss: 1.5497\n",
            "Epoch 4/10\n",
            "\u001b[1m609/609\u001b[0m \u001b[32m━━━━━━━━━━━━━━━━━━━━\u001b[0m\u001b[37m\u001b[0m \u001b[1m66s\u001b[0m 107ms/step - accuracy: 0.6620 - loss: 0.9359 - val_accuracy: 0.4385 - val_loss: 1.7690\n",
            "Epoch 5/10\n",
            "\u001b[1m609/609\u001b[0m \u001b[32m━━━━━━━━━━━━━━━━━━━━\u001b[0m\u001b[37m\u001b[0m \u001b[1m65s\u001b[0m 105ms/step - accuracy: 0.8024 - loss: 0.5656 - val_accuracy: 0.4328 - val_loss: 2.2333\n",
            "Epoch 6/10\n",
            "\u001b[1m609/609\u001b[0m \u001b[32m━━━━━━━━━━━━━━━━━━━━\u001b[0m\u001b[37m\u001b[0m \u001b[1m64s\u001b[0m 104ms/step - accuracy: 0.8934 - loss: 0.3178 - val_accuracy: 0.4433 - val_loss: 2.8462\n",
            "Epoch 7/10\n",
            "\u001b[1m609/609\u001b[0m \u001b[32m━━━━━━━━━━━━━━━━━━━━\u001b[0m\u001b[37m\u001b[0m \u001b[1m66s\u001b[0m 107ms/step - accuracy: 0.9331 - loss: 0.2076 - val_accuracy: 0.4338 - val_loss: 3.3697\n",
            "Epoch 8/10\n",
            "\u001b[1m609/609\u001b[0m \u001b[32m━━━━━━━━━━━━━━━━━━━━\u001b[0m\u001b[37m\u001b[0m \u001b[1m65s\u001b[0m 106ms/step - accuracy: 0.9435 - loss: 0.1695 - val_accuracy: 0.4379 - val_loss: 3.7196\n",
            "Epoch 9/10\n",
            "\u001b[1m609/609\u001b[0m \u001b[32m━━━━━━━━━━━━━━━━━━━━\u001b[0m\u001b[37m\u001b[0m \u001b[1m66s\u001b[0m 108ms/step - accuracy: 0.9537 - loss: 0.1371 - val_accuracy: 0.4356 - val_loss: 3.9316\n",
            "Epoch 10/10\n",
            "\u001b[1m609/609\u001b[0m \u001b[32m━━━━━━━━━━━━━━━━━━━━\u001b[0m\u001b[37m\u001b[0m \u001b[1m65s\u001b[0m 106ms/step - accuracy: 0.9567 - loss: 0.1258 - val_accuracy: 0.4299 - val_loss: 4.0238\n"
          ]
        }
      ]
    },
    {
      "cell_type": "code",
      "source": [
        "import matplotlib.pyplot as plt\n",
        "\n",
        "def plot_accuracy(history):\n",
        "    plt.plot(history.history['accuracy'], label='accuracy')\n",
        "    plt.plot(history.history['val_accuracy'], label='val_accuracy')\n",
        "    plt.xlabel('Epoch')\n",
        "    plt.ylabel('Accuracy')\n",
        "    plt.legend(loc='lower right')\n",
        "    plt.show()\n",
        "\n",
        "plot_accuracy(history)"
      ],
      "metadata": {
        "colab": {
          "base_uri": "https://localhost:8080/",
          "height": 449
        },
        "id": "xBS4IIp8jnJd",
        "outputId": "3e520335-fd8a-4767-9b4a-080f84153612"
      },
      "execution_count": null,
      "outputs": [
        {
          "output_type": "display_data",
          "data": {
            "text/plain": [
              "<Figure size 640x480 with 1 Axes>"
            ],
            "image/png": "[encoded data removed]"
          },
          "metadata": {}
        }
      ]
    },
    {
      "cell_type": "code",
      "source": [
        "model_path = \"/content/drive/MyDrive/Facial-Emotion-andBody-Language/Models/Emotion_CNN_model.h5\"\n",
        "cnn_emotion_model.save(model_path)"
      ],
      "metadata": {
        "id": "vo0quuDN8wJc"
      },
      "execution_count": null,
      "outputs": []
    },
    {
      "cell_type": "code",
      "source": [
        "from tensorflow.keras import regularizers\n",
        "\n",
        "def create_improved_cnn_model(input_shape, num_classes):\n",
        "    model = models.Sequential([\n",
        "        layers.Conv2D(32, (3, 3), activation='relu', input_shape=input_shape, kernel_regularizer=regularizers.l2(0.001)),\n",
        "        layers.MaxPooling2D((2, 2)),\n",
        "        layers.Conv2D(64, (3, 3), activation='relu', kernel_regularizer=regularizers.l2(0.001)),\n",
        "        layers.MaxPooling2D((2, 2)),\n",
        "        layers.Conv2D(128, (3, 3), activation='relu', kernel_regularizer=regularizers.l2(0.001)),\n",
        "        layers.MaxPooling2D((2, 2)),\n",
        "        layers.Flatten(),\n",
        "        layers.Dense(128, activation='relu', kernel_regularizer=regularizers.l2(0.001)),\n",
        "        layers.Dropout(0.5),\n",
        "        layers.Dense(num_classes, activation='softmax')\n",
        "    ])\n",
        "\n",
        "    model.compile(optimizer=tf.keras.optimizers.Adam(learning_rate=0.0001),\n",
        "                  loss='categorical_crossentropy',\n",
        "                  metrics=['accuracy'])\n",
        "\n",
        "    return model"
      ],
      "metadata": {
        "id": "JdTD_rkAfYh7"
      },
      "execution_count": null,
      "outputs": []
    },
    {
      "cell_type": "code",
      "source": [
        "improved_cnn_emotion_model = create_improved_cnn_model(img_size + (3,), num_classes=emotion_train_data.num_classes)"
      ],
      "metadata": {
        "id": "bST6j_hEn6T_"
      },
      "execution_count": null,
      "outputs": []
    },
    {
      "cell_type": "code",
      "source": [
        "early_stopping = tf.keras.callbacks.EarlyStopping(monitor='val_loss', patience=5, restore_best_weights=True)\n"
      ],
      "metadata": {
        "id": "vJ7oOW-pn9Bn"
      },
      "execution_count": null,
      "outputs": []
    },
    {
      "cell_type": "code",
      "source": [],
      "metadata": {
        "id": "3vOgHuga8kMZ"
      },
      "execution_count": null,
      "outputs": []
    },
    {
      "cell_type": "code",
      "source": [
        "improved_history = improved_cnn_emotion_model.fit(\n",
        "    emotion_train_data,\n",
        "    epochs=20,\n",
        "    validation_data=emotion_val_data,\n",
        "    callbacks=[early_stopping]\n",
        ")"
      ],
      "metadata": {
        "id": "dgN96uVtoA5e"
      },
      "execution_count": null,
      "outputs": []
    },
    {
      "cell_type": "code",
      "source": [
        "model_path = \"/content/drive/MyDrive/Facial-Emotion-andBody-Language/Models/improved_Emotion_CNN_model.h5\"\n",
        "improved_cnn_emotion_model.save(model_path)"
      ],
      "metadata": {
        "id": "GnsaKS7G9H8Y"
      },
      "execution_count": null,
      "outputs": []
    },
    {
      "cell_type": "code",
      "source": [
        "emotion_datagen_aug = ImageDataGenerator(\n",
        "    rescale=1./255,\n",
        "    rotation_range=20,\n",
        "    width_shift_range=0.2,\n",
        "    height_shift_range=0.2,\n",
        "    shear_range=0.2,\n",
        "    zoom_range=0.2,\n",
        "    horizontal_flip=True,\n",
        "    fill_mode='nearest',\n",
        "    validation_split=0.2\n",
        ")\n",
        "\n",
        "emotion_train_data_aug = emotion_datagen_aug.flow_from_directory(\n",
        "    emotion_data_path,\n",
        "    target_size=img_size,\n",
        "    batch_size=batch_size,\n",
        "    class_mode='categorical',\n",
        "    subset='training')\n",
        "\n",
        "emotion_val_data_aug = emotion_datagen_aug.flow_from_directory(\n",
        "    emotion_data_path,\n",
        "    target_size=img_size,\n",
        "    batch_size=batch_size,\n",
        "    class_mode='categorical',\n",
        "    subset='validation')"
      ],
      "metadata": {
        "colab": {
          "base_uri": "https://localhost:8080/"
        },
        "id": "1dZaHlW5EGsl",
        "outputId": "4f04e1c7-db05-4022-ca4d-d1f22c10c9ba"
      },
      "execution_count": null,
      "outputs": [
        {
          "output_type": "stream",
          "name": "stdout",
          "text": [
            "Found 19461 images belonging to 7 classes.\n",
            "Found 4864 images belonging to 7 classes.\n"
          ]
        }
      ]
    },
    {
      "cell_type": "code",
      "source": [
        "lr_scheduler = tf.keras.callbacks.ReduceLROnPlateau(\n",
        "    monitor='val_loss',\n",
        "    factor=0.5,\n",
        "    patience=3,\n",
        "    min_lr=1e-6\n",
        ")\n",
        "\n"
      ],
      "metadata": {
        "id": "03GdwNjcEKZ6"
      },
      "execution_count": null,
      "outputs": []
    },
    {
      "cell_type": "code",
      "source": [
        "aug_history = improved_cnn_emotion_model.fit(\n",
        "    emotion_train_data_aug,\n",
        "    epochs=30,\n",
        "    validation_data=emotion_val_data_aug,\n",
        "    callbacks=[early_stopping, lr_scheduler]\n",
        ")\n",
        "\n",
        "plot_training_history(aug_history)\n",
        "\n",
        "\n",
        "\n",
        "val_loss_aug, val_accuracy_aug = improved_cnn_emotion_model.evaluate(emotion_val_data_aug)\n",
        "print(f'Validation Accuracy after augmentation: {val_accuracy_aug:.4f}, Validation Loss: {val_loss_aug:.4f}')\n",
        "\n",
        "y_pred_aug = improved_cnn_emotion_model.predict(emotion_val_data_aug)\n",
        "y_pred_classes_aug = np.argmax(y_pred_aug, axis=1)\n",
        "y_true_aug = emotion_val_data_aug.classes\n",
        "\n",
        "print(classification_report(y_true_aug, y_pred_classes_aug, target_names=emotion_train_data_aug.class_indices.keys()))"
      ],
      "metadata": {
        "id": "VkwV_WYfJUlF",
        "colab": {
          "base_uri": "https://localhost:8080/",
          "height": 404
        },
        "outputId": "356f861b-3cb6-4807-ead0-4fa341f0659c"
      },
      "execution_count": null,
      "outputs": [
        {
          "output_type": "stream",
          "name": "stdout",
          "text": [
            "Epoch 1/30\n",
            "\u001b[1m609/609\u001b[0m \u001b[32m━━━━━━━━━━━━━━━━━━━━\u001b[0m\u001b[37m\u001b[0m \u001b[1m312s\u001b[0m 469ms/step - accuracy: 0.1887 - loss: 2.1083 - val_accuracy: 0.2204 - val_loss: 2.0306 - learning_rate: 1.0000e-04\n",
            "Epoch 2/30\n",
            "\u001b[1m609/609\u001b[0m \u001b[32m━━━━━━━━━━━━━━━━━━━━\u001b[0m\u001b[37m\u001b[0m \u001b[1m314s\u001b[0m 510ms/step - accuracy: 0.2138 - loss: 2.0383 - val_accuracy: 0.2424 - val_loss: 1.9896 - learning_rate: 1.0000e-04\n",
            "Epoch 3/30\n",
            "\u001b[1m609/609\u001b[0m \u001b[32m━━━━━━━━━━━━━━━━━━━━\u001b[0m\u001b[37m\u001b[0m \u001b[1m376s\u001b[0m 611ms/step - accuracy: 0.2250 - loss: 2.0090 - val_accuracy: 0.2457 - val_loss: 1.9682 - learning_rate: 1.0000e-04\n",
            "Epoch 4/30\n",
            "\u001b[1m609/609\u001b[0m \u001b[32m━━━━━━━━━━━━━━━━━━━━\u001b[0m\u001b[37m\u001b[0m \u001b[1m387s\u001b[0m 631ms/step - accuracy: 0.2343 - loss: 1.9885 - val_accuracy: 0.2574 - val_loss: 1.9590 - learning_rate: 1.0000e-04\n",
            "Epoch 5/30\n",
            "\u001b[1m609/609\u001b[0m \u001b[32m━━━━━━━━━━━━━━━━━━━━\u001b[0m\u001b[37m\u001b[0m \u001b[1m391s\u001b[0m 636ms/step - accuracy: 0.2329 - loss: 1.9642 - val_accuracy: 0.2537 - val_loss: 1.9329 - learning_rate: 1.0000e-04\n"
          ]
        },
        {
          "output_type": "error",
          "ename": "NameError",
          "evalue": "name 'plot_training_history' is not defined",
          "traceback": [
            "\u001b[0;31m---------------------------------------------------------------------------\u001b[0m",
            "\u001b[0;31mNameError\u001b[0m                                 Traceback (most recent call last)",
            "\u001b[0;32m<ipython-input-18-5da9cfac5b57>\u001b[0m in \u001b[0;36m<cell line: 10>\u001b[0;34m()\u001b[0m\n\u001b[1;32m      8\u001b[0m \u001b[0;34m\u001b[0m\u001b[0m\n\u001b[1;32m      9\u001b[0m \u001b[0;31m# Plot the training history with the new augmentations and learning rate adjustments\u001b[0m\u001b[0;34m\u001b[0m\u001b[0;34m\u001b[0m\u001b[0m\n\u001b[0;32m---> 10\u001b[0;31m \u001b[0mplot_training_history\u001b[0m\u001b[0;34m(\u001b[0m\u001b[0maug_history\u001b[0m\u001b[0;34m)\u001b[0m\u001b[0;34m\u001b[0m\u001b[0;34m\u001b[0m\u001b[0m\n\u001b[0m\u001b[1;32m     11\u001b[0m \u001b[0;34m\u001b[0m\u001b[0m\n\u001b[1;32m     12\u001b[0m \u001b[0;34m\u001b[0m\u001b[0m\n",
            "\u001b[0;31mNameError\u001b[0m: name 'plot_training_history' is not defined"
          ]
        }
      ]
    },
    {
      "cell_type": "code",
      "source": [
        "\n",
        "def plot_training_history(history):\n",
        "    fig, axs = plt.subplots(2, 1, figsize=(10, 10))\n",
        "\n",
        "    axs[0].plot(history.history['accuracy'], label='Train Accuracy')\n",
        "    axs[0].plot(history.history['val_accuracy'], label='Validation Accuracy')\n",
        "    axs[0].set_xlabel('Epoch')\n",
        "    axs[0].set_ylabel('Accuracy')\n",
        "    axs[0].legend()\n",
        "\n",
        "    axs[1].plot(history.history['loss'], label='Train Loss')\n",
        "    axs[1].plot(history.history['val_loss'], label='Validation Loss')\n",
        "    axs[1].set_xlabel('Epoch')\n",
        "    axs[1].set_ylabel('Loss')\n",
        "    axs[1].legend()\n",
        "\n",
        "    plt.show()\n",
        "\n",
        "plot_training_history(improved_history)"
      ],
      "metadata": {
        "id": "cyPRp8tCoE6g"
      },
      "execution_count": null,
      "outputs": []
    },
    {
      "cell_type": "code",
      "source": [],
      "metadata": {
        "id": "oGWTyaJWsx7j"
      },
      "execution_count": null,
      "outputs": []
    }
  ]
}
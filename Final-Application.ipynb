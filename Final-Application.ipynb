{
 "cells": [
  {
   "cell_type": "code",
   "execution_count": 2,
   "id": "e0e74516",
   "metadata": {},
   "outputs": [
    {
     "data": {
      "text/plain": [
       "'\\n+---------------------+\\n| Load Datasets        |\\n+---------------------+\\n         |\\n+---------------------+\\n| Preprocess Data      |\\n+---------------------+\\n         |\\n+-----------------------------+\\n| Train Models (Face/Body)     |\\n+-----------------------------+\\n         |\\n+-----------------------------+\\n| Evaluate Models              |\\n+-----------------------------+\\n         |\\n+-----------------------------+\\n| Deploy in Real-Time System   |\\n+-----------------------------+\\n         |\\n+-----------------------------+\\n| Integrate with OpenCV        |\\n+-----------------------------+\\n         |\\n+-----------------------------+\\n| Build UI for Real-Time App   |\\n+-----------------------------+\\n         |\\n+-----------------------------+\\n| Final Application            |\\n+-----------------------------+\\n\\n'"
      ]
     },
     "execution_count": 2,
     "metadata": {},
     "output_type": "execute_result"
    }
   ],
   "source": [
    "'''\n",
    "+---------------------+\n",
    "| Load Datasets        |\n",
    "+---------------------+\n",
    "         |\n",
    "+---------------------+\n",
    "| Preprocess Data      |\n",
    "+---------------------+\n",
    "         |\n",
    "+-----------------------------+\n",
    "| Train Models (Face/Body)     |\n",
    "+-----------------------------+\n",
    "         |\n",
    "+-----------------------------+\n",
    "| Evaluate Models              |\n",
    "+-----------------------------+\n",
    "         |\n",
    "+-----------------------------+\n",
    "| Deploy in Real-Time System   |\n",
    "+-----------------------------+\n",
    "         |\n",
    "+-----------------------------+\n",
    "| Integrate with OpenCV        |\n",
    "+-----------------------------+\n",
    "         |\n",
    "+-----------------------------+\n",
    "| Build UI for Real-Time App   |\n",
    "+-----------------------------+\n",
    "         |\n",
    "+-----------------------------+\n",
    "| Final Application            |\n",
    "+-----------------------------+\n",
    "\n",
    "'''"
   ]
  },
  {
   "cell_type": "code",
   "execution_count": 3,
   "id": "e9875d7f",
   "metadata": {},
   "outputs": [
    {
     "data": {
      "text/plain": [
       "'\\n[Camera] --> [Face Detection] --> [Facial Emotion Model] --> [Labeled Output]\\n                     |\\n                   [Body Detection] --> [Body Posture Model] --> [Labeled Output]\\n'"
      ]
     },
     "execution_count": 3,
     "metadata": {},
     "output_type": "execute_result"
    }
   ],
   "source": [
    "'''\n",
    "[Camera] --> [Face Detection] --> [Facial Emotion Model] --> [Labeled Output]\n",
    "                     |\n",
    "                   [Body Detection] --> [Body Posture Model] --> [Labeled Output]\n",
    "'''"
   ]
  },
  {
   "cell_type": "code",
   "execution_count": 4,
   "id": "8377e02c",
   "metadata": {},
   "outputs": [
    {
     "data": {
      "text/plain": [
       "'\\n+-----------------------+\\n|      User Interface    |\\n+-----------------------+\\n         |\\n+-----------------------+\\n|    Real-Time Video Feed|\\n+-----------------------+\\n         |\\n+-----------------------+\\n| Face Detection & Emotion|\\n| Posture Detection      |\\n+-----------------------+\\n         |\\n+-----------------------+\\n|        Emotion/Body     |\\n|        Label Display    |\\n+-----------------------+\\n\\n\\n'"
      ]
     },
     "execution_count": 4,
     "metadata": {},
     "output_type": "execute_result"
    }
   ],
   "source": [
    "'''\n",
    "+-----------------------+\n",
    "|      User Interface    |\n",
    "+-----------------------+\n",
    "         |\n",
    "+-----------------------+\n",
    "|    Real-Time Video Feed|\n",
    "+-----------------------+\n",
    "         |\n",
    "+-----------------------+\n",
    "| Face Detection & Emotion|\n",
    "| Posture Detection      |\n",
    "+-----------------------+\n",
    "         |\n",
    "+-----------------------+\n",
    "|        Emotion/Body     |\n",
    "|        Label Display    |\n",
    "+-----------------------+\n",
    "\n",
    "\n",
    "'''"
   ]
  },
  {
   "cell_type": "code",
   "execution_count": null,
   "id": "7ea5b1f2",
   "metadata": {},
   "outputs": [],
   "source": []
  }
 ],
 "metadata": {
  "kernelspec": {
   "display_name": "Python 3 (ipykernel)",
   "language": "python",
   "name": "python3"
  },
  "language_info": {
   "codemirror_mode": {
    "name": "ipython",
    "version": 3
   },
   "file_extension": ".py",
   "mimetype": "text/x-python",
   "name": "python",
   "nbconvert_exporter": "python",
   "pygments_lexer": "ipython3",
   "version": "3.11.5"
  }
 },
 "nbformat": 4,
 "nbformat_minor": 5
}
